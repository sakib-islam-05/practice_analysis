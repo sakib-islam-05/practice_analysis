{
 "cells": [
  {
   "cell_type": "code",
   "execution_count": 75,
   "id": "c4d81e36-74f7-4f42-819d-354b1942fb6c",
   "metadata": {},
   "outputs": [],
   "source": [
    "import pandas as pd\n",
    "import numpy as np\n",
    "import warnings\n",
    "warnings.filterwarnings('ignore')\n",
    "df_bank=pd.read_csv(r\"D:\\Practice\\Bank_data_before_processing.csv\",sep=',',index_col=0)"
   ]
  },
  {
   "cell_type": "code",
   "execution_count": 76,
   "id": "9710bc68-e76a-47cf-a7d7-de221af1cb22",
   "metadata": {},
   "outputs": [
    {
     "data": {
      "text/html": [
       "<div>\n",
       "<style scoped>\n",
       "    .dataframe tbody tr th:only-of-type {\n",
       "        vertical-align: middle;\n",
       "    }\n",
       "\n",
       "    .dataframe tbody tr th {\n",
       "        vertical-align: top;\n",
       "    }\n",
       "\n",
       "    .dataframe thead th {\n",
       "        text-align: right;\n",
       "    }\n",
       "</style>\n",
       "<table border=\"1\" class=\"dataframe\">\n",
       "  <thead>\n",
       "    <tr style=\"text-align: right;\">\n",
       "      <th></th>\n",
       "      <th>RowNumber</th>\n",
       "      <th>CustomerId</th>\n",
       "      <th>Surname</th>\n",
       "      <th>CreditScore</th>\n",
       "      <th>Geography</th>\n",
       "      <th>Gender</th>\n",
       "      <th>Age</th>\n",
       "      <th>Tenure</th>\n",
       "      <th>Balance</th>\n",
       "      <th>NumOfProducts</th>\n",
       "      <th>HasCrCard</th>\n",
       "      <th>IsActiveMember</th>\n",
       "      <th>EstimatedSalary</th>\n",
       "      <th>Exited</th>\n",
       "    </tr>\n",
       "  </thead>\n",
       "  <tbody>\n",
       "    <tr>\n",
       "      <th>0</th>\n",
       "      <td>1</td>\n",
       "      <td>15634602</td>\n",
       "      <td>Hargrave</td>\n",
       "      <td>619.0</td>\n",
       "      <td>France</td>\n",
       "      <td>Female</td>\n",
       "      <td>42.0</td>\n",
       "      <td>2.0</td>\n",
       "      <td>0.00</td>\n",
       "      <td>1.0</td>\n",
       "      <td>1.0</td>\n",
       "      <td>1.0</td>\n",
       "      <td>101348.88</td>\n",
       "      <td>1</td>\n",
       "    </tr>\n",
       "    <tr>\n",
       "      <th>1</th>\n",
       "      <td>2</td>\n",
       "      <td>15647311</td>\n",
       "      <td>Hill</td>\n",
       "      <td>608.0</td>\n",
       "      <td>Spain</td>\n",
       "      <td>Female</td>\n",
       "      <td>41.0</td>\n",
       "      <td>1.0</td>\n",
       "      <td>83807.86</td>\n",
       "      <td>1.0</td>\n",
       "      <td>0.0</td>\n",
       "      <td>1.0</td>\n",
       "      <td>112542.58</td>\n",
       "      <td>0</td>\n",
       "    </tr>\n",
       "    <tr>\n",
       "      <th>2</th>\n",
       "      <td>3</td>\n",
       "      <td>15619304</td>\n",
       "      <td>Onio</td>\n",
       "      <td>502.0</td>\n",
       "      <td>France</td>\n",
       "      <td>Female</td>\n",
       "      <td>42.0</td>\n",
       "      <td>8.0</td>\n",
       "      <td>159660.80</td>\n",
       "      <td>3.0</td>\n",
       "      <td>1.0</td>\n",
       "      <td>0.0</td>\n",
       "      <td>113931.57</td>\n",
       "      <td>1</td>\n",
       "    </tr>\n",
       "    <tr>\n",
       "      <th>3</th>\n",
       "      <td>4</td>\n",
       "      <td>15701354</td>\n",
       "      <td>Boni</td>\n",
       "      <td>699.0</td>\n",
       "      <td>France</td>\n",
       "      <td>Female</td>\n",
       "      <td>39.0</td>\n",
       "      <td>1.0</td>\n",
       "      <td>0.00</td>\n",
       "      <td>2.0</td>\n",
       "      <td>0.0</td>\n",
       "      <td>NaN</td>\n",
       "      <td>93826.63</td>\n",
       "      <td>0</td>\n",
       "    </tr>\n",
       "    <tr>\n",
       "      <th>4</th>\n",
       "      <td>5</td>\n",
       "      <td>15737888</td>\n",
       "      <td>Mitchell</td>\n",
       "      <td>850.0</td>\n",
       "      <td>Spain</td>\n",
       "      <td>Female</td>\n",
       "      <td>43.0</td>\n",
       "      <td>2.0</td>\n",
       "      <td>125510.82</td>\n",
       "      <td>1.0</td>\n",
       "      <td>1.0</td>\n",
       "      <td>1.0</td>\n",
       "      <td>79084.10</td>\n",
       "      <td>0</td>\n",
       "    </tr>\n",
       "    <tr>\n",
       "      <th>...</th>\n",
       "      <td>...</td>\n",
       "      <td>...</td>\n",
       "      <td>...</td>\n",
       "      <td>...</td>\n",
       "      <td>...</td>\n",
       "      <td>...</td>\n",
       "      <td>...</td>\n",
       "      <td>...</td>\n",
       "      <td>...</td>\n",
       "      <td>...</td>\n",
       "      <td>...</td>\n",
       "      <td>...</td>\n",
       "      <td>...</td>\n",
       "      <td>...</td>\n",
       "    </tr>\n",
       "    <tr>\n",
       "      <th>3612</th>\n",
       "      <td>3613</td>\n",
       "      <td>15792151</td>\n",
       "      <td>Hamilton</td>\n",
       "      <td>635.0</td>\n",
       "      <td>Spain</td>\n",
       "      <td>Female</td>\n",
       "      <td>37.0</td>\n",
       "      <td>3.0</td>\n",
       "      <td>0.00</td>\n",
       "      <td>2.0</td>\n",
       "      <td>1.0</td>\n",
       "      <td>0.0</td>\n",
       "      <td>91086.73</td>\n",
       "      <td>0</td>\n",
       "    </tr>\n",
       "    <tr>\n",
       "      <th>4437</th>\n",
       "      <td>4438</td>\n",
       "      <td>15779522</td>\n",
       "      <td>Efimov</td>\n",
       "      <td>736.0</td>\n",
       "      <td>France</td>\n",
       "      <td>Female</td>\n",
       "      <td>24.0</td>\n",
       "      <td>0.0</td>\n",
       "      <td>0.00</td>\n",
       "      <td>2.0</td>\n",
       "      <td>1.0</td>\n",
       "      <td>0.0</td>\n",
       "      <td>109355.73</td>\n",
       "      <td>1</td>\n",
       "    </tr>\n",
       "    <tr>\n",
       "      <th>6549</th>\n",
       "      <td>6550</td>\n",
       "      <td>15792029</td>\n",
       "      <td>Lee</td>\n",
       "      <td>620.0</td>\n",
       "      <td>France</td>\n",
       "      <td>Male</td>\n",
       "      <td>32.0</td>\n",
       "      <td>6.0</td>\n",
       "      <td>0.00</td>\n",
       "      <td>2.0</td>\n",
       "      <td>1.0</td>\n",
       "      <td>0.0</td>\n",
       "      <td>56139.09</td>\n",
       "      <td>0</td>\n",
       "    </tr>\n",
       "    <tr>\n",
       "      <th>4590</th>\n",
       "      <td>4591</td>\n",
       "      <td>15680167</td>\n",
       "      <td>Thomson</td>\n",
       "      <td>635.0</td>\n",
       "      <td>France</td>\n",
       "      <td>Female</td>\n",
       "      <td>78.0</td>\n",
       "      <td>6.0</td>\n",
       "      <td>47536.40</td>\n",
       "      <td>1.0</td>\n",
       "      <td>NaN</td>\n",
       "      <td>1.0</td>\n",
       "      <td>119400.08</td>\n",
       "      <td>0</td>\n",
       "    </tr>\n",
       "    <tr>\n",
       "      <th>8</th>\n",
       "      <td>9</td>\n",
       "      <td>15792365</td>\n",
       "      <td>He</td>\n",
       "      <td>501.0</td>\n",
       "      <td>France</td>\n",
       "      <td>Male</td>\n",
       "      <td>44.0</td>\n",
       "      <td>4.0</td>\n",
       "      <td>142051.07</td>\n",
       "      <td>2.0</td>\n",
       "      <td>0.0</td>\n",
       "      <td>1.0</td>\n",
       "      <td>74940.50</td>\n",
       "      <td>0</td>\n",
       "    </tr>\n",
       "  </tbody>\n",
       "</table>\n",
       "<p>10150 rows × 14 columns</p>\n",
       "</div>"
      ],
      "text/plain": [
       "      RowNumber  CustomerId   Surname  CreditScore Geography  Gender   Age  \\\n",
       "0             1    15634602  Hargrave        619.0    France  Female  42.0   \n",
       "1             2    15647311      Hill        608.0     Spain  Female  41.0   \n",
       "2             3    15619304      Onio        502.0    France  Female  42.0   \n",
       "3             4    15701354      Boni        699.0    France  Female  39.0   \n",
       "4             5    15737888  Mitchell        850.0     Spain  Female  43.0   \n",
       "...         ...         ...       ...          ...       ...     ...   ...   \n",
       "3612       3613    15792151  Hamilton        635.0     Spain  Female  37.0   \n",
       "4437       4438    15779522    Efimov        736.0    France  Female  24.0   \n",
       "6549       6550    15792029       Lee        620.0    France    Male  32.0   \n",
       "4590       4591    15680167   Thomson        635.0    France  Female  78.0   \n",
       "8             9    15792365        He        501.0    France    Male  44.0   \n",
       "\n",
       "      Tenure    Balance  NumOfProducts  HasCrCard  IsActiveMember  \\\n",
       "0        2.0       0.00            1.0        1.0             1.0   \n",
       "1        1.0   83807.86            1.0        0.0             1.0   \n",
       "2        8.0  159660.80            3.0        1.0             0.0   \n",
       "3        1.0       0.00            2.0        0.0             NaN   \n",
       "4        2.0  125510.82            1.0        1.0             1.0   \n",
       "...      ...        ...            ...        ...             ...   \n",
       "3612     3.0       0.00            2.0        1.0             0.0   \n",
       "4437     0.0       0.00            2.0        1.0             0.0   \n",
       "6549     6.0       0.00            2.0        1.0             0.0   \n",
       "4590     6.0   47536.40            1.0        NaN             1.0   \n",
       "8        4.0  142051.07            2.0        0.0             1.0   \n",
       "\n",
       "      EstimatedSalary  Exited  \n",
       "0           101348.88       1  \n",
       "1           112542.58       0  \n",
       "2           113931.57       1  \n",
       "3            93826.63       0  \n",
       "4            79084.10       0  \n",
       "...               ...     ...  \n",
       "3612         91086.73       0  \n",
       "4437        109355.73       1  \n",
       "6549         56139.09       0  \n",
       "4590        119400.08       0  \n",
       "8            74940.50       0  \n",
       "\n",
       "[10150 rows x 14 columns]"
      ]
     },
     "execution_count": 76,
     "metadata": {},
     "output_type": "execute_result"
    }
   ],
   "source": [
    "df_bank"
   ]
  },
  {
   "cell_type": "code",
   "execution_count": 77,
   "id": "cad172de-35b7-4214-823f-cdacaea966dc",
   "metadata": {},
   "outputs": [
    {
     "name": "stdout",
     "output_type": "stream",
     "text": [
      "<class 'pandas.core.frame.DataFrame'>\n",
      "Index: 10150 entries, 0 to 8\n",
      "Data columns (total 14 columns):\n",
      " #   Column           Non-Null Count  Dtype  \n",
      "---  ------           --------------  -----  \n",
      " 0   RowNumber        10150 non-null  int64  \n",
      " 1   CustomerId       10150 non-null  int64  \n",
      " 2   Surname          10056 non-null  object \n",
      " 3   CreditScore      10132 non-null  float64\n",
      " 4   Geography        9954 non-null   object \n",
      " 5   Gender           9867 non-null   object \n",
      " 6   Age              9879 non-null   float64\n",
      " 7   Tenure           10070 non-null  float64\n",
      " 8   Balance          9994 non-null   float64\n",
      " 9   NumOfProducts    9862 non-null   float64\n",
      " 10  HasCrCard        10067 non-null  float64\n",
      " 11  IsActiveMember   10063 non-null  float64\n",
      " 12  EstimatedSalary  10106 non-null  float64\n",
      " 13  Exited           10150 non-null  int64  \n",
      "dtypes: float64(8), int64(3), object(3)\n",
      "memory usage: 1.2+ MB\n"
     ]
    }
   ],
   "source": [
    "df_bank.info()"
   ]
  },
  {
   "cell_type": "code",
   "execution_count": 78,
   "id": "6f506cb2-fa81-40f9-8f1c-386863c95ea8",
   "metadata": {},
   "outputs": [
    {
     "data": {
      "text/plain": [
       "RowNumber            0\n",
       "CustomerId           0\n",
       "Surname             94\n",
       "CreditScore         18\n",
       "Geography          196\n",
       "Gender             283\n",
       "Age                271\n",
       "Tenure              80\n",
       "Balance            156\n",
       "NumOfProducts      288\n",
       "HasCrCard           83\n",
       "IsActiveMember      87\n",
       "EstimatedSalary     44\n",
       "Exited               0\n",
       "dtype: int64"
      ]
     },
     "execution_count": 78,
     "metadata": {},
     "output_type": "execute_result"
    }
   ],
   "source": [
    "df_bank.isna().sum()"
   ]
  },
  {
   "cell_type": "code",
   "execution_count": 79,
   "id": "573bb3e0-64a8-4516-8e7b-38db773a1bc8",
   "metadata": {},
   "outputs": [
    {
     "data": {
      "text/plain": [
       "10000"
      ]
     },
     "execution_count": 79,
     "metadata": {},
     "output_type": "execute_result"
    }
   ],
   "source": [
    "df_bank['RowNumber'].nunique()"
   ]
  },
  {
   "cell_type": "code",
   "execution_count": 80,
   "id": "d47d721f-9261-4b2a-802a-cbeb33419b95",
   "metadata": {},
   "outputs": [
    {
     "data": {
      "text/plain": [
       "True"
      ]
     },
     "execution_count": 80,
     "metadata": {},
     "output_type": "execute_result"
    }
   ],
   "source": [
    "df_bank['RowNumber'].duplicated().any()"
   ]
  },
  {
   "cell_type": "code",
   "execution_count": 81,
   "id": "da402ce7-3c7f-4cfd-bbf9-45b04db70ae1",
   "metadata": {},
   "outputs": [
    {
     "data": {
      "text/html": [
       "<div>\n",
       "<style scoped>\n",
       "    .dataframe tbody tr th:only-of-type {\n",
       "        vertical-align: middle;\n",
       "    }\n",
       "\n",
       "    .dataframe tbody tr th {\n",
       "        vertical-align: top;\n",
       "    }\n",
       "\n",
       "    .dataframe thead th {\n",
       "        text-align: right;\n",
       "    }\n",
       "</style>\n",
       "<table border=\"1\" class=\"dataframe\">\n",
       "  <thead>\n",
       "    <tr style=\"text-align: right;\">\n",
       "      <th></th>\n",
       "      <th>RowNumber</th>\n",
       "      <th>CustomerId</th>\n",
       "      <th>Surname</th>\n",
       "      <th>CreditScore</th>\n",
       "      <th>Geography</th>\n",
       "      <th>Gender</th>\n",
       "      <th>Age</th>\n",
       "      <th>Tenure</th>\n",
       "      <th>Balance</th>\n",
       "      <th>NumOfProducts</th>\n",
       "      <th>HasCrCard</th>\n",
       "      <th>IsActiveMember</th>\n",
       "      <th>EstimatedSalary</th>\n",
       "      <th>Exited</th>\n",
       "    </tr>\n",
       "  </thead>\n",
       "  <tbody>\n",
       "    <tr>\n",
       "      <th>8</th>\n",
       "      <td>9</td>\n",
       "      <td>15792365</td>\n",
       "      <td>He</td>\n",
       "      <td>501.0</td>\n",
       "      <td>France</td>\n",
       "      <td>Male</td>\n",
       "      <td>44.0</td>\n",
       "      <td>4.0</td>\n",
       "      <td>142051.07</td>\n",
       "      <td>2.0</td>\n",
       "      <td>0.0</td>\n",
       "      <td>1.0</td>\n",
       "      <td>74940.50</td>\n",
       "      <td>0</td>\n",
       "    </tr>\n",
       "    <tr>\n",
       "      <th>26</th>\n",
       "      <td>27</td>\n",
       "      <td>15736816</td>\n",
       "      <td>Young</td>\n",
       "      <td>756.0</td>\n",
       "      <td>NaN</td>\n",
       "      <td>Male</td>\n",
       "      <td>36.0</td>\n",
       "      <td>2.0</td>\n",
       "      <td>136815.64</td>\n",
       "      <td>NaN</td>\n",
       "      <td>1.0</td>\n",
       "      <td>1.0</td>\n",
       "      <td>170041.95</td>\n",
       "      <td>0</td>\n",
       "    </tr>\n",
       "    <tr>\n",
       "      <th>151</th>\n",
       "      <td>152</td>\n",
       "      <td>15759618</td>\n",
       "      <td>Alexeeva</td>\n",
       "      <td>535.0</td>\n",
       "      <td>France</td>\n",
       "      <td>Female</td>\n",
       "      <td>48.0</td>\n",
       "      <td>9.0</td>\n",
       "      <td>0.00</td>\n",
       "      <td>1.0</td>\n",
       "      <td>1.0</td>\n",
       "      <td>0.0</td>\n",
       "      <td>149892.79</td>\n",
       "      <td>1</td>\n",
       "    </tr>\n",
       "    <tr>\n",
       "      <th>220</th>\n",
       "      <td>221</td>\n",
       "      <td>15725311</td>\n",
       "      <td>Hay</td>\n",
       "      <td>726.0</td>\n",
       "      <td>France</td>\n",
       "      <td>Female</td>\n",
       "      <td>31.0</td>\n",
       "      <td>9.0</td>\n",
       "      <td>114722.05</td>\n",
       "      <td>2.0</td>\n",
       "      <td>1.0</td>\n",
       "      <td>1.0</td>\n",
       "      <td>98178.57</td>\n",
       "      <td>0</td>\n",
       "    </tr>\n",
       "    <tr>\n",
       "      <th>227</th>\n",
       "      <td>228</td>\n",
       "      <td>15676895</td>\n",
       "      <td>Cattaneo</td>\n",
       "      <td>547.0</td>\n",
       "      <td>Germany</td>\n",
       "      <td>Female</td>\n",
       "      <td>39.0</td>\n",
       "      <td>6.0</td>\n",
       "      <td>74596.15</td>\n",
       "      <td>3.0</td>\n",
       "      <td>1.0</td>\n",
       "      <td>1.0</td>\n",
       "      <td>85746.52</td>\n",
       "      <td>1</td>\n",
       "    </tr>\n",
       "    <tr>\n",
       "      <th>...</th>\n",
       "      <td>...</td>\n",
       "      <td>...</td>\n",
       "      <td>...</td>\n",
       "      <td>...</td>\n",
       "      <td>...</td>\n",
       "      <td>...</td>\n",
       "      <td>...</td>\n",
       "      <td>...</td>\n",
       "      <td>...</td>\n",
       "      <td>...</td>\n",
       "      <td>...</td>\n",
       "      <td>...</td>\n",
       "      <td>...</td>\n",
       "      <td>...</td>\n",
       "    </tr>\n",
       "    <tr>\n",
       "      <th>3612</th>\n",
       "      <td>3613</td>\n",
       "      <td>15792151</td>\n",
       "      <td>Hamilton</td>\n",
       "      <td>635.0</td>\n",
       "      <td>Spain</td>\n",
       "      <td>Female</td>\n",
       "      <td>37.0</td>\n",
       "      <td>3.0</td>\n",
       "      <td>0.00</td>\n",
       "      <td>2.0</td>\n",
       "      <td>1.0</td>\n",
       "      <td>0.0</td>\n",
       "      <td>91086.73</td>\n",
       "      <td>0</td>\n",
       "    </tr>\n",
       "    <tr>\n",
       "      <th>4437</th>\n",
       "      <td>4438</td>\n",
       "      <td>15779522</td>\n",
       "      <td>Efimov</td>\n",
       "      <td>736.0</td>\n",
       "      <td>France</td>\n",
       "      <td>Female</td>\n",
       "      <td>24.0</td>\n",
       "      <td>0.0</td>\n",
       "      <td>0.00</td>\n",
       "      <td>2.0</td>\n",
       "      <td>1.0</td>\n",
       "      <td>0.0</td>\n",
       "      <td>109355.73</td>\n",
       "      <td>1</td>\n",
       "    </tr>\n",
       "    <tr>\n",
       "      <th>6549</th>\n",
       "      <td>6550</td>\n",
       "      <td>15792029</td>\n",
       "      <td>Lee</td>\n",
       "      <td>620.0</td>\n",
       "      <td>France</td>\n",
       "      <td>Male</td>\n",
       "      <td>32.0</td>\n",
       "      <td>6.0</td>\n",
       "      <td>0.00</td>\n",
       "      <td>2.0</td>\n",
       "      <td>1.0</td>\n",
       "      <td>0.0</td>\n",
       "      <td>56139.09</td>\n",
       "      <td>0</td>\n",
       "    </tr>\n",
       "    <tr>\n",
       "      <th>4590</th>\n",
       "      <td>4591</td>\n",
       "      <td>15680167</td>\n",
       "      <td>Thomson</td>\n",
       "      <td>635.0</td>\n",
       "      <td>France</td>\n",
       "      <td>Female</td>\n",
       "      <td>78.0</td>\n",
       "      <td>6.0</td>\n",
       "      <td>47536.40</td>\n",
       "      <td>1.0</td>\n",
       "      <td>NaN</td>\n",
       "      <td>1.0</td>\n",
       "      <td>119400.08</td>\n",
       "      <td>0</td>\n",
       "    </tr>\n",
       "    <tr>\n",
       "      <th>8</th>\n",
       "      <td>9</td>\n",
       "      <td>15792365</td>\n",
       "      <td>He</td>\n",
       "      <td>501.0</td>\n",
       "      <td>France</td>\n",
       "      <td>Male</td>\n",
       "      <td>44.0</td>\n",
       "      <td>4.0</td>\n",
       "      <td>142051.07</td>\n",
       "      <td>2.0</td>\n",
       "      <td>0.0</td>\n",
       "      <td>1.0</td>\n",
       "      <td>74940.50</td>\n",
       "      <td>0</td>\n",
       "    </tr>\n",
       "  </tbody>\n",
       "</table>\n",
       "<p>299 rows × 14 columns</p>\n",
       "</div>"
      ],
      "text/plain": [
       "      RowNumber  CustomerId   Surname  CreditScore Geography  Gender   Age  \\\n",
       "8             9    15792365        He        501.0    France    Male  44.0   \n",
       "26           27    15736816     Young        756.0       NaN    Male  36.0   \n",
       "151         152    15759618  Alexeeva        535.0    France  Female  48.0   \n",
       "220         221    15725311       Hay        726.0    France  Female  31.0   \n",
       "227         228    15676895  Cattaneo        547.0   Germany  Female  39.0   \n",
       "...         ...         ...       ...          ...       ...     ...   ...   \n",
       "3612       3613    15792151  Hamilton        635.0     Spain  Female  37.0   \n",
       "4437       4438    15779522    Efimov        736.0    France  Female  24.0   \n",
       "6549       6550    15792029       Lee        620.0    France    Male  32.0   \n",
       "4590       4591    15680167   Thomson        635.0    France  Female  78.0   \n",
       "8             9    15792365        He        501.0    France    Male  44.0   \n",
       "\n",
       "      Tenure    Balance  NumOfProducts  HasCrCard  IsActiveMember  \\\n",
       "8        4.0  142051.07            2.0        0.0             1.0   \n",
       "26       2.0  136815.64            NaN        1.0             1.0   \n",
       "151      9.0       0.00            1.0        1.0             0.0   \n",
       "220      9.0  114722.05            2.0        1.0             1.0   \n",
       "227      6.0   74596.15            3.0        1.0             1.0   \n",
       "...      ...        ...            ...        ...             ...   \n",
       "3612     3.0       0.00            2.0        1.0             0.0   \n",
       "4437     0.0       0.00            2.0        1.0             0.0   \n",
       "6549     6.0       0.00            2.0        1.0             0.0   \n",
       "4590     6.0   47536.40            1.0        NaN             1.0   \n",
       "8        4.0  142051.07            2.0        0.0             1.0   \n",
       "\n",
       "      EstimatedSalary  Exited  \n",
       "8            74940.50       0  \n",
       "26          170041.95       0  \n",
       "151         149892.79       1  \n",
       "220          98178.57       0  \n",
       "227          85746.52       1  \n",
       "...               ...     ...  \n",
       "3612         91086.73       0  \n",
       "4437        109355.73       1  \n",
       "6549         56139.09       0  \n",
       "4590        119400.08       0  \n",
       "8            74940.50       0  \n",
       "\n",
       "[299 rows x 14 columns]"
      ]
     },
     "execution_count": 81,
     "metadata": {},
     "output_type": "execute_result"
    }
   ],
   "source": [
    "df_bank[df_bank['RowNumber'].duplicated(keep=False)]"
   ]
  },
  {
   "cell_type": "code",
   "execution_count": 82,
   "id": "1ab4aec8-a962-49fe-a5b3-4baadf61faa1",
   "metadata": {},
   "outputs": [],
   "source": [
    "duplicated_Row_Number=list(df_bank[df_bank['RowNumber'].duplicated(keep=False)]['RowNumber'].unique())"
   ]
  },
  {
   "cell_type": "code",
   "execution_count": 83,
   "id": "4de76615-a24b-413a-a963-fc2aa53b9846",
   "metadata": {},
   "outputs": [
    {
     "data": {
      "text/html": [
       "<div>\n",
       "<style scoped>\n",
       "    .dataframe tbody tr th:only-of-type {\n",
       "        vertical-align: middle;\n",
       "    }\n",
       "\n",
       "    .dataframe tbody tr th {\n",
       "        vertical-align: top;\n",
       "    }\n",
       "\n",
       "    .dataframe thead th {\n",
       "        text-align: right;\n",
       "    }\n",
       "</style>\n",
       "<table border=\"1\" class=\"dataframe\">\n",
       "  <thead>\n",
       "    <tr style=\"text-align: right;\">\n",
       "      <th></th>\n",
       "      <th>RowNumber</th>\n",
       "      <th>CustomerId</th>\n",
       "      <th>Surname</th>\n",
       "      <th>CreditScore</th>\n",
       "      <th>Geography</th>\n",
       "      <th>Gender</th>\n",
       "      <th>Age</th>\n",
       "      <th>Tenure</th>\n",
       "      <th>Balance</th>\n",
       "      <th>NumOfProducts</th>\n",
       "      <th>HasCrCard</th>\n",
       "      <th>IsActiveMember</th>\n",
       "      <th>EstimatedSalary</th>\n",
       "      <th>Exited</th>\n",
       "    </tr>\n",
       "  </thead>\n",
       "  <tbody>\n",
       "    <tr>\n",
       "      <th>8</th>\n",
       "      <td>9</td>\n",
       "      <td>15792365</td>\n",
       "      <td>He</td>\n",
       "      <td>501.0</td>\n",
       "      <td>France</td>\n",
       "      <td>Male</td>\n",
       "      <td>44.0</td>\n",
       "      <td>4.0</td>\n",
       "      <td>142051.07</td>\n",
       "      <td>2.0</td>\n",
       "      <td>0.0</td>\n",
       "      <td>1.0</td>\n",
       "      <td>74940.50</td>\n",
       "      <td>0</td>\n",
       "    </tr>\n",
       "    <tr>\n",
       "      <th>26</th>\n",
       "      <td>27</td>\n",
       "      <td>15736816</td>\n",
       "      <td>Young</td>\n",
       "      <td>756.0</td>\n",
       "      <td>NaN</td>\n",
       "      <td>Male</td>\n",
       "      <td>36.0</td>\n",
       "      <td>2.0</td>\n",
       "      <td>136815.64</td>\n",
       "      <td>NaN</td>\n",
       "      <td>1.0</td>\n",
       "      <td>1.0</td>\n",
       "      <td>170041.95</td>\n",
       "      <td>0</td>\n",
       "    </tr>\n",
       "    <tr>\n",
       "      <th>151</th>\n",
       "      <td>152</td>\n",
       "      <td>15759618</td>\n",
       "      <td>Alexeeva</td>\n",
       "      <td>535.0</td>\n",
       "      <td>France</td>\n",
       "      <td>Female</td>\n",
       "      <td>48.0</td>\n",
       "      <td>9.0</td>\n",
       "      <td>0.00</td>\n",
       "      <td>1.0</td>\n",
       "      <td>1.0</td>\n",
       "      <td>0.0</td>\n",
       "      <td>149892.79</td>\n",
       "      <td>1</td>\n",
       "    </tr>\n",
       "    <tr>\n",
       "      <th>220</th>\n",
       "      <td>221</td>\n",
       "      <td>15725311</td>\n",
       "      <td>Hay</td>\n",
       "      <td>726.0</td>\n",
       "      <td>France</td>\n",
       "      <td>Female</td>\n",
       "      <td>31.0</td>\n",
       "      <td>9.0</td>\n",
       "      <td>114722.05</td>\n",
       "      <td>2.0</td>\n",
       "      <td>1.0</td>\n",
       "      <td>1.0</td>\n",
       "      <td>98178.57</td>\n",
       "      <td>0</td>\n",
       "    </tr>\n",
       "    <tr>\n",
       "      <th>227</th>\n",
       "      <td>228</td>\n",
       "      <td>15676895</td>\n",
       "      <td>Cattaneo</td>\n",
       "      <td>547.0</td>\n",
       "      <td>Germany</td>\n",
       "      <td>Female</td>\n",
       "      <td>39.0</td>\n",
       "      <td>6.0</td>\n",
       "      <td>74596.15</td>\n",
       "      <td>3.0</td>\n",
       "      <td>1.0</td>\n",
       "      <td>1.0</td>\n",
       "      <td>85746.52</td>\n",
       "      <td>1</td>\n",
       "    </tr>\n",
       "    <tr>\n",
       "      <th>...</th>\n",
       "      <td>...</td>\n",
       "      <td>...</td>\n",
       "      <td>...</td>\n",
       "      <td>...</td>\n",
       "      <td>...</td>\n",
       "      <td>...</td>\n",
       "      <td>...</td>\n",
       "      <td>...</td>\n",
       "      <td>...</td>\n",
       "      <td>...</td>\n",
       "      <td>...</td>\n",
       "      <td>...</td>\n",
       "      <td>...</td>\n",
       "      <td>...</td>\n",
       "    </tr>\n",
       "    <tr>\n",
       "      <th>3612</th>\n",
       "      <td>3613</td>\n",
       "      <td>15792151</td>\n",
       "      <td>Hamilton</td>\n",
       "      <td>635.0</td>\n",
       "      <td>Spain</td>\n",
       "      <td>Female</td>\n",
       "      <td>37.0</td>\n",
       "      <td>3.0</td>\n",
       "      <td>0.00</td>\n",
       "      <td>2.0</td>\n",
       "      <td>1.0</td>\n",
       "      <td>0.0</td>\n",
       "      <td>91086.73</td>\n",
       "      <td>0</td>\n",
       "    </tr>\n",
       "    <tr>\n",
       "      <th>4437</th>\n",
       "      <td>4438</td>\n",
       "      <td>15779522</td>\n",
       "      <td>Efimov</td>\n",
       "      <td>736.0</td>\n",
       "      <td>France</td>\n",
       "      <td>Female</td>\n",
       "      <td>24.0</td>\n",
       "      <td>0.0</td>\n",
       "      <td>0.00</td>\n",
       "      <td>2.0</td>\n",
       "      <td>1.0</td>\n",
       "      <td>0.0</td>\n",
       "      <td>109355.73</td>\n",
       "      <td>1</td>\n",
       "    </tr>\n",
       "    <tr>\n",
       "      <th>6549</th>\n",
       "      <td>6550</td>\n",
       "      <td>15792029</td>\n",
       "      <td>Lee</td>\n",
       "      <td>620.0</td>\n",
       "      <td>France</td>\n",
       "      <td>Male</td>\n",
       "      <td>32.0</td>\n",
       "      <td>6.0</td>\n",
       "      <td>0.00</td>\n",
       "      <td>2.0</td>\n",
       "      <td>1.0</td>\n",
       "      <td>0.0</td>\n",
       "      <td>56139.09</td>\n",
       "      <td>0</td>\n",
       "    </tr>\n",
       "    <tr>\n",
       "      <th>4590</th>\n",
       "      <td>4591</td>\n",
       "      <td>15680167</td>\n",
       "      <td>Thomson</td>\n",
       "      <td>635.0</td>\n",
       "      <td>France</td>\n",
       "      <td>Female</td>\n",
       "      <td>78.0</td>\n",
       "      <td>6.0</td>\n",
       "      <td>47536.40</td>\n",
       "      <td>1.0</td>\n",
       "      <td>NaN</td>\n",
       "      <td>1.0</td>\n",
       "      <td>119400.08</td>\n",
       "      <td>0</td>\n",
       "    </tr>\n",
       "    <tr>\n",
       "      <th>8</th>\n",
       "      <td>9</td>\n",
       "      <td>15792365</td>\n",
       "      <td>He</td>\n",
       "      <td>501.0</td>\n",
       "      <td>France</td>\n",
       "      <td>Male</td>\n",
       "      <td>44.0</td>\n",
       "      <td>4.0</td>\n",
       "      <td>142051.07</td>\n",
       "      <td>2.0</td>\n",
       "      <td>0.0</td>\n",
       "      <td>1.0</td>\n",
       "      <td>74940.50</td>\n",
       "      <td>0</td>\n",
       "    </tr>\n",
       "  </tbody>\n",
       "</table>\n",
       "<p>299 rows × 14 columns</p>\n",
       "</div>"
      ],
      "text/plain": [
       "      RowNumber  CustomerId   Surname  CreditScore Geography  Gender   Age  \\\n",
       "8             9    15792365        He        501.0    France    Male  44.0   \n",
       "26           27    15736816     Young        756.0       NaN    Male  36.0   \n",
       "151         152    15759618  Alexeeva        535.0    France  Female  48.0   \n",
       "220         221    15725311       Hay        726.0    France  Female  31.0   \n",
       "227         228    15676895  Cattaneo        547.0   Germany  Female  39.0   \n",
       "...         ...         ...       ...          ...       ...     ...   ...   \n",
       "3612       3613    15792151  Hamilton        635.0     Spain  Female  37.0   \n",
       "4437       4438    15779522    Efimov        736.0    France  Female  24.0   \n",
       "6549       6550    15792029       Lee        620.0    France    Male  32.0   \n",
       "4590       4591    15680167   Thomson        635.0    France  Female  78.0   \n",
       "8             9    15792365        He        501.0    France    Male  44.0   \n",
       "\n",
       "      Tenure    Balance  NumOfProducts  HasCrCard  IsActiveMember  \\\n",
       "8        4.0  142051.07            2.0        0.0             1.0   \n",
       "26       2.0  136815.64            NaN        1.0             1.0   \n",
       "151      9.0       0.00            1.0        1.0             0.0   \n",
       "220      9.0  114722.05            2.0        1.0             1.0   \n",
       "227      6.0   74596.15            3.0        1.0             1.0   \n",
       "...      ...        ...            ...        ...             ...   \n",
       "3612     3.0       0.00            2.0        1.0             0.0   \n",
       "4437     0.0       0.00            2.0        1.0             0.0   \n",
       "6549     6.0       0.00            2.0        1.0             0.0   \n",
       "4590     6.0   47536.40            1.0        NaN             1.0   \n",
       "8        4.0  142051.07            2.0        0.0             1.0   \n",
       "\n",
       "      EstimatedSalary  Exited  \n",
       "8            74940.50       0  \n",
       "26          170041.95       0  \n",
       "151         149892.79       1  \n",
       "220          98178.57       0  \n",
       "227          85746.52       1  \n",
       "...               ...     ...  \n",
       "3612         91086.73       0  \n",
       "4437        109355.73       1  \n",
       "6549         56139.09       0  \n",
       "4590        119400.08       0  \n",
       "8            74940.50       0  \n",
       "\n",
       "[299 rows x 14 columns]"
      ]
     },
     "execution_count": 83,
     "metadata": {},
     "output_type": "execute_result"
    }
   ],
   "source": [
    "df_bank[df_bank['RowNumber'].isin(duplicated_Row_Number)]"
   ]
  },
  {
   "cell_type": "code",
   "execution_count": 84,
   "id": "d4358ba8-2a64-453a-a91a-94b820a19d92",
   "metadata": {},
   "outputs": [],
   "source": [
    "df_bank.drop_duplicates(subset='RowNumber',keep='first',inplace=True)"
   ]
  },
  {
   "cell_type": "code",
   "execution_count": 85,
   "id": "f8815634-3775-41ad-b3ba-a2d6d630c5b5",
   "metadata": {},
   "outputs": [
    {
     "data": {
      "text/plain": [
       "False"
      ]
     },
     "execution_count": 85,
     "metadata": {},
     "output_type": "execute_result"
    }
   ],
   "source": [
    "df_bank['RowNumber'].duplicated().any()"
   ]
  },
  {
   "cell_type": "code",
   "execution_count": 86,
   "id": "37e3ee3d-a10f-4c2f-ae47-5824c85369fc",
   "metadata": {},
   "outputs": [
    {
     "data": {
      "text/plain": [
       "False"
      ]
     },
     "execution_count": 86,
     "metadata": {},
     "output_type": "execute_result"
    }
   ],
   "source": [
    "df_bank['CustomerId'].duplicated().any()"
   ]
  },
  {
   "cell_type": "code",
   "execution_count": 87,
   "id": "ca8a5447-e613-43f5-87c3-c58a51874ef7",
   "metadata": {},
   "outputs": [],
   "source": [
    "df_bank=df_bank.sort_values(by='CustomerId',ascending=False).reset_index(drop=True)"
   ]
  },
  {
   "cell_type": "code",
   "execution_count": 88,
   "id": "8990fa5f-9c9e-423a-aab7-eaf0f5f2a634",
   "metadata": {},
   "outputs": [],
   "source": [
    "df_bank.drop(columns=['RowNumber'],inplace=True)"
   ]
  },
  {
   "cell_type": "code",
   "execution_count": 89,
   "id": "334a1aeb-9bd9-481c-9318-5b73e0bdf54e",
   "metadata": {},
   "outputs": [
    {
     "data": {
      "text/html": [
       "<div>\n",
       "<style scoped>\n",
       "    .dataframe tbody tr th:only-of-type {\n",
       "        vertical-align: middle;\n",
       "    }\n",
       "\n",
       "    .dataframe tbody tr th {\n",
       "        vertical-align: top;\n",
       "    }\n",
       "\n",
       "    .dataframe thead th {\n",
       "        text-align: right;\n",
       "    }\n",
       "</style>\n",
       "<table border=\"1\" class=\"dataframe\">\n",
       "  <thead>\n",
       "    <tr style=\"text-align: right;\">\n",
       "      <th></th>\n",
       "      <th>CustomerId</th>\n",
       "      <th>Surname</th>\n",
       "      <th>CreditScore</th>\n",
       "      <th>Geography</th>\n",
       "      <th>Gender</th>\n",
       "      <th>Age</th>\n",
       "      <th>Tenure</th>\n",
       "      <th>Balance</th>\n",
       "      <th>NumOfProducts</th>\n",
       "      <th>HasCrCard</th>\n",
       "      <th>IsActiveMember</th>\n",
       "      <th>EstimatedSalary</th>\n",
       "      <th>Exited</th>\n",
       "    </tr>\n",
       "  </thead>\n",
       "  <tbody>\n",
       "    <tr>\n",
       "      <th>0</th>\n",
       "      <td>15815690</td>\n",
       "      <td>Akabueze</td>\n",
       "      <td>614.0</td>\n",
       "      <td>Spain</td>\n",
       "      <td>Female</td>\n",
       "      <td>40.0</td>\n",
       "      <td>3.0</td>\n",
       "      <td>113348.50</td>\n",
       "      <td>1.0</td>\n",
       "      <td>1.0</td>\n",
       "      <td>1.0</td>\n",
       "      <td>77789.01</td>\n",
       "      <td>0</td>\n",
       "    </tr>\n",
       "    <tr>\n",
       "      <th>1</th>\n",
       "      <td>15815660</td>\n",
       "      <td>Mazzi</td>\n",
       "      <td>758.0</td>\n",
       "      <td>France</td>\n",
       "      <td>Female</td>\n",
       "      <td>34.0</td>\n",
       "      <td>1.0</td>\n",
       "      <td>154139.45</td>\n",
       "      <td>1.0</td>\n",
       "      <td>1.0</td>\n",
       "      <td>1.0</td>\n",
       "      <td>60728.89</td>\n",
       "      <td>0</td>\n",
       "    </tr>\n",
       "    <tr>\n",
       "      <th>2</th>\n",
       "      <td>15815656</td>\n",
       "      <td>Hopkins</td>\n",
       "      <td>541.0</td>\n",
       "      <td>Germany</td>\n",
       "      <td>Female</td>\n",
       "      <td>39.0</td>\n",
       "      <td>9.0</td>\n",
       "      <td>100116.67</td>\n",
       "      <td>1.0</td>\n",
       "      <td>1.0</td>\n",
       "      <td>1.0</td>\n",
       "      <td>199808.10</td>\n",
       "      <td>1</td>\n",
       "    </tr>\n",
       "    <tr>\n",
       "      <th>3</th>\n",
       "      <td>15815645</td>\n",
       "      <td>Akhtar</td>\n",
       "      <td>481.0</td>\n",
       "      <td>France</td>\n",
       "      <td>NaN</td>\n",
       "      <td>37.0</td>\n",
       "      <td>8.0</td>\n",
       "      <td>152303.66</td>\n",
       "      <td>2.0</td>\n",
       "      <td>1.0</td>\n",
       "      <td>1.0</td>\n",
       "      <td>175082.20</td>\n",
       "      <td>0</td>\n",
       "    </tr>\n",
       "    <tr>\n",
       "      <th>4</th>\n",
       "      <td>15815628</td>\n",
       "      <td>Moysey</td>\n",
       "      <td>711.0</td>\n",
       "      <td>France</td>\n",
       "      <td>Female</td>\n",
       "      <td>37.0</td>\n",
       "      <td>8.0</td>\n",
       "      <td>113899.92</td>\n",
       "      <td>1.0</td>\n",
       "      <td>0.0</td>\n",
       "      <td>0.0</td>\n",
       "      <td>80215.20</td>\n",
       "      <td>0</td>\n",
       "    </tr>\n",
       "    <tr>\n",
       "      <th>...</th>\n",
       "      <td>...</td>\n",
       "      <td>...</td>\n",
       "      <td>...</td>\n",
       "      <td>...</td>\n",
       "      <td>...</td>\n",
       "      <td>...</td>\n",
       "      <td>...</td>\n",
       "      <td>...</td>\n",
       "      <td>...</td>\n",
       "      <td>...</td>\n",
       "      <td>...</td>\n",
       "      <td>...</td>\n",
       "      <td>...</td>\n",
       "    </tr>\n",
       "    <tr>\n",
       "      <th>9995</th>\n",
       "      <td>15565796</td>\n",
       "      <td>Docherty</td>\n",
       "      <td>745.0</td>\n",
       "      <td>Germany</td>\n",
       "      <td>Male</td>\n",
       "      <td>48.0</td>\n",
       "      <td>10.0</td>\n",
       "      <td>96048.55</td>\n",
       "      <td>1.0</td>\n",
       "      <td>1.0</td>\n",
       "      <td>0.0</td>\n",
       "      <td>74510.65</td>\n",
       "      <td>0</td>\n",
       "    </tr>\n",
       "    <tr>\n",
       "      <th>9996</th>\n",
       "      <td>15565779</td>\n",
       "      <td>Kent</td>\n",
       "      <td>627.0</td>\n",
       "      <td>Germany</td>\n",
       "      <td>Female</td>\n",
       "      <td>30.0</td>\n",
       "      <td>6.0</td>\n",
       "      <td>57809.32</td>\n",
       "      <td>1.0</td>\n",
       "      <td>1.0</td>\n",
       "      <td>0.0</td>\n",
       "      <td>188258.49</td>\n",
       "      <td>0</td>\n",
       "    </tr>\n",
       "    <tr>\n",
       "      <th>9997</th>\n",
       "      <td>15565714</td>\n",
       "      <td>Cattaneo</td>\n",
       "      <td>601.0</td>\n",
       "      <td>France</td>\n",
       "      <td>Male</td>\n",
       "      <td>47.0</td>\n",
       "      <td>1.0</td>\n",
       "      <td>64430.06</td>\n",
       "      <td>2.0</td>\n",
       "      <td>0.0</td>\n",
       "      <td>1.0</td>\n",
       "      <td>96517.97</td>\n",
       "      <td>0</td>\n",
       "    </tr>\n",
       "    <tr>\n",
       "      <th>9998</th>\n",
       "      <td>15565706</td>\n",
       "      <td>Akobundu</td>\n",
       "      <td>612.0</td>\n",
       "      <td>Spain</td>\n",
       "      <td>Male</td>\n",
       "      <td>35.0</td>\n",
       "      <td>1.0</td>\n",
       "      <td>0.00</td>\n",
       "      <td>1.0</td>\n",
       "      <td>1.0</td>\n",
       "      <td>1.0</td>\n",
       "      <td>83256.26</td>\n",
       "      <td>1</td>\n",
       "    </tr>\n",
       "    <tr>\n",
       "      <th>9999</th>\n",
       "      <td>15565701</td>\n",
       "      <td>Ferri</td>\n",
       "      <td>698.0</td>\n",
       "      <td>Spain</td>\n",
       "      <td>NaN</td>\n",
       "      <td>39.0</td>\n",
       "      <td>9.0</td>\n",
       "      <td>161993.89</td>\n",
       "      <td>1.0</td>\n",
       "      <td>0.0</td>\n",
       "      <td>0.0</td>\n",
       "      <td>90212.38</td>\n",
       "      <td>0</td>\n",
       "    </tr>\n",
       "  </tbody>\n",
       "</table>\n",
       "<p>10000 rows × 13 columns</p>\n",
       "</div>"
      ],
      "text/plain": [
       "      CustomerId   Surname  CreditScore Geography  Gender   Age  Tenure  \\\n",
       "0       15815690  Akabueze        614.0     Spain  Female  40.0     3.0   \n",
       "1       15815660     Mazzi        758.0    France  Female  34.0     1.0   \n",
       "2       15815656   Hopkins        541.0   Germany  Female  39.0     9.0   \n",
       "3       15815645    Akhtar        481.0    France     NaN  37.0     8.0   \n",
       "4       15815628    Moysey        711.0    France  Female  37.0     8.0   \n",
       "...          ...       ...          ...       ...     ...   ...     ...   \n",
       "9995    15565796  Docherty        745.0   Germany    Male  48.0    10.0   \n",
       "9996    15565779      Kent        627.0   Germany  Female  30.0     6.0   \n",
       "9997    15565714  Cattaneo        601.0    France    Male  47.0     1.0   \n",
       "9998    15565706  Akobundu        612.0     Spain    Male  35.0     1.0   \n",
       "9999    15565701     Ferri        698.0     Spain     NaN  39.0     9.0   \n",
       "\n",
       "        Balance  NumOfProducts  HasCrCard  IsActiveMember  EstimatedSalary  \\\n",
       "0     113348.50            1.0        1.0             1.0         77789.01   \n",
       "1     154139.45            1.0        1.0             1.0         60728.89   \n",
       "2     100116.67            1.0        1.0             1.0        199808.10   \n",
       "3     152303.66            2.0        1.0             1.0        175082.20   \n",
       "4     113899.92            1.0        0.0             0.0         80215.20   \n",
       "...         ...            ...        ...             ...              ...   \n",
       "9995   96048.55            1.0        1.0             0.0         74510.65   \n",
       "9996   57809.32            1.0        1.0             0.0        188258.49   \n",
       "9997   64430.06            2.0        0.0             1.0         96517.97   \n",
       "9998       0.00            1.0        1.0             1.0         83256.26   \n",
       "9999  161993.89            1.0        0.0             0.0         90212.38   \n",
       "\n",
       "      Exited  \n",
       "0          0  \n",
       "1          0  \n",
       "2          1  \n",
       "3          0  \n",
       "4          0  \n",
       "...      ...  \n",
       "9995       0  \n",
       "9996       0  \n",
       "9997       0  \n",
       "9998       1  \n",
       "9999       0  \n",
       "\n",
       "[10000 rows x 13 columns]"
      ]
     },
     "execution_count": 89,
     "metadata": {},
     "output_type": "execute_result"
    }
   ],
   "source": [
    "df_bank"
   ]
  },
  {
   "cell_type": "code",
   "execution_count": 90,
   "id": "2e0b8381-e1e1-4561-a0b4-f9d871478d0f",
   "metadata": {},
   "outputs": [
    {
     "data": {
      "text/plain": [
       "False"
      ]
     },
     "execution_count": 90,
     "metadata": {},
     "output_type": "execute_result"
    }
   ],
   "source": [
    "df_bank['CustomerId'].isna().any()"
   ]
  },
  {
   "cell_type": "code",
   "execution_count": 91,
   "id": "398f7996-c40e-41bb-9e78-a4cc25e677bb",
   "metadata": {},
   "outputs": [
    {
     "data": {
      "text/plain": [
       "92"
      ]
     },
     "execution_count": 91,
     "metadata": {},
     "output_type": "execute_result"
    }
   ],
   "source": [
    "df_bank['Surname'].isna().sum()"
   ]
  },
  {
   "cell_type": "code",
   "execution_count": 92,
   "id": "13de6791-4894-489b-8403-98aab65b9eda",
   "metadata": {},
   "outputs": [
    {
     "data": {
      "text/html": [
       "<div>\n",
       "<style scoped>\n",
       "    .dataframe tbody tr th:only-of-type {\n",
       "        vertical-align: middle;\n",
       "    }\n",
       "\n",
       "    .dataframe tbody tr th {\n",
       "        vertical-align: top;\n",
       "    }\n",
       "\n",
       "    .dataframe thead th {\n",
       "        text-align: right;\n",
       "    }\n",
       "</style>\n",
       "<table border=\"1\" class=\"dataframe\">\n",
       "  <thead>\n",
       "    <tr style=\"text-align: right;\">\n",
       "      <th></th>\n",
       "      <th>CustomerId</th>\n",
       "      <th>Surname</th>\n",
       "      <th>CreditScore</th>\n",
       "      <th>Geography</th>\n",
       "      <th>Gender</th>\n",
       "      <th>Age</th>\n",
       "      <th>Tenure</th>\n",
       "      <th>Balance</th>\n",
       "      <th>NumOfProducts</th>\n",
       "      <th>HasCrCard</th>\n",
       "      <th>IsActiveMember</th>\n",
       "      <th>EstimatedSalary</th>\n",
       "      <th>Exited</th>\n",
       "    </tr>\n",
       "  </thead>\n",
       "  <tbody>\n",
       "    <tr>\n",
       "      <th>68</th>\n",
       "      <td>15813871</td>\n",
       "      <td>NaN</td>\n",
       "      <td>690.0</td>\n",
       "      <td>France</td>\n",
       "      <td>Male</td>\n",
       "      <td>47.0</td>\n",
       "      <td>2.0</td>\n",
       "      <td>0.00</td>\n",
       "      <td>2.0</td>\n",
       "      <td>1.0</td>\n",
       "      <td>0.0</td>\n",
       "      <td>151375.73</td>\n",
       "      <td>0</td>\n",
       "    </tr>\n",
       "    <tr>\n",
       "      <th>176</th>\n",
       "      <td>15811314</td>\n",
       "      <td>NaN</td>\n",
       "      <td>589.0</td>\n",
       "      <td>Germany</td>\n",
       "      <td>Female</td>\n",
       "      <td>36.0</td>\n",
       "      <td>9.0</td>\n",
       "      <td>140355.56</td>\n",
       "      <td>NaN</td>\n",
       "      <td>1.0</td>\n",
       "      <td>0.0</td>\n",
       "      <td>136329.96</td>\n",
       "      <td>0</td>\n",
       "    </tr>\n",
       "    <tr>\n",
       "      <th>248</th>\n",
       "      <td>15809585</td>\n",
       "      <td>NaN</td>\n",
       "      <td>646.0</td>\n",
       "      <td>France</td>\n",
       "      <td>Male</td>\n",
       "      <td>38.0</td>\n",
       "      <td>7.0</td>\n",
       "      <td>0.00</td>\n",
       "      <td>2.0</td>\n",
       "      <td>1.0</td>\n",
       "      <td>0.0</td>\n",
       "      <td>1528.40</td>\n",
       "      <td>0</td>\n",
       "    </tr>\n",
       "    <tr>\n",
       "      <th>260</th>\n",
       "      <td>15809263</td>\n",
       "      <td>NaN</td>\n",
       "      <td>729.0</td>\n",
       "      <td>Germany</td>\n",
       "      <td>Male</td>\n",
       "      <td>29.0</td>\n",
       "      <td>5.0</td>\n",
       "      <td>109676.52</td>\n",
       "      <td>1.0</td>\n",
       "      <td>1.0</td>\n",
       "      <td>1.0</td>\n",
       "      <td>25548.47</td>\n",
       "      <td>0</td>\n",
       "    </tr>\n",
       "    <tr>\n",
       "      <th>288</th>\n",
       "      <td>15808566</td>\n",
       "      <td>NaN</td>\n",
       "      <td>516.0</td>\n",
       "      <td>France</td>\n",
       "      <td>Male</td>\n",
       "      <td>46.0</td>\n",
       "      <td>2.0</td>\n",
       "      <td>0.00</td>\n",
       "      <td>2.0</td>\n",
       "      <td>1.0</td>\n",
       "      <td>1.0</td>\n",
       "      <td>169122.54</td>\n",
       "      <td>0</td>\n",
       "    </tr>\n",
       "    <tr>\n",
       "      <th>...</th>\n",
       "      <td>...</td>\n",
       "      <td>...</td>\n",
       "      <td>...</td>\n",
       "      <td>...</td>\n",
       "      <td>...</td>\n",
       "      <td>...</td>\n",
       "      <td>...</td>\n",
       "      <td>...</td>\n",
       "      <td>...</td>\n",
       "      <td>...</td>\n",
       "      <td>...</td>\n",
       "      <td>...</td>\n",
       "      <td>...</td>\n",
       "    </tr>\n",
       "    <tr>\n",
       "      <th>9400</th>\n",
       "      <td>15581388</td>\n",
       "      <td>NaN</td>\n",
       "      <td>487.0</td>\n",
       "      <td>Spain</td>\n",
       "      <td>Male</td>\n",
       "      <td>33.0</td>\n",
       "      <td>8.0</td>\n",
       "      <td>145729.71</td>\n",
       "      <td>1.0</td>\n",
       "      <td>1.0</td>\n",
       "      <td>0.0</td>\n",
       "      <td>41365.85</td>\n",
       "      <td>0</td>\n",
       "    </tr>\n",
       "    <tr>\n",
       "      <th>9491</th>\n",
       "      <td>15579040</td>\n",
       "      <td>NaN</td>\n",
       "      <td>556.0</td>\n",
       "      <td>France</td>\n",
       "      <td>Female</td>\n",
       "      <td>46.0</td>\n",
       "      <td>10.0</td>\n",
       "      <td>0.00</td>\n",
       "      <td>2.0</td>\n",
       "      <td>0.0</td>\n",
       "      <td>0.0</td>\n",
       "      <td>109184.24</td>\n",
       "      <td>0</td>\n",
       "    </tr>\n",
       "    <tr>\n",
       "      <th>9514</th>\n",
       "      <td>15578462</td>\n",
       "      <td>NaN</td>\n",
       "      <td>596.0</td>\n",
       "      <td>Spain</td>\n",
       "      <td>Female</td>\n",
       "      <td>76.0</td>\n",
       "      <td>9.0</td>\n",
       "      <td>134208.25</td>\n",
       "      <td>1.0</td>\n",
       "      <td>1.0</td>\n",
       "      <td>1.0</td>\n",
       "      <td>13455.43</td>\n",
       "      <td>0</td>\n",
       "    </tr>\n",
       "    <tr>\n",
       "      <th>9728</th>\n",
       "      <td>15572657</td>\n",
       "      <td>NaN</td>\n",
       "      <td>472.0</td>\n",
       "      <td>France</td>\n",
       "      <td>Male</td>\n",
       "      <td>29.0</td>\n",
       "      <td>8.0</td>\n",
       "      <td>102490.27</td>\n",
       "      <td>1.0</td>\n",
       "      <td>0.0</td>\n",
       "      <td>1.0</td>\n",
       "      <td>181224.56</td>\n",
       "      <td>0</td>\n",
       "    </tr>\n",
       "    <tr>\n",
       "      <th>9912</th>\n",
       "      <td>15568106</td>\n",
       "      <td>NaN</td>\n",
       "      <td>592.0</td>\n",
       "      <td>France</td>\n",
       "      <td>Female</td>\n",
       "      <td>38.0</td>\n",
       "      <td>8.0</td>\n",
       "      <td>119278.01</td>\n",
       "      <td>2.0</td>\n",
       "      <td>0.0</td>\n",
       "      <td>1.0</td>\n",
       "      <td>19370.73</td>\n",
       "      <td>0</td>\n",
       "    </tr>\n",
       "  </tbody>\n",
       "</table>\n",
       "<p>92 rows × 13 columns</p>\n",
       "</div>"
      ],
      "text/plain": [
       "      CustomerId Surname  CreditScore Geography  Gender   Age  Tenure  \\\n",
       "68      15813871     NaN        690.0    France    Male  47.0     2.0   \n",
       "176     15811314     NaN        589.0   Germany  Female  36.0     9.0   \n",
       "248     15809585     NaN        646.0    France    Male  38.0     7.0   \n",
       "260     15809263     NaN        729.0   Germany    Male  29.0     5.0   \n",
       "288     15808566     NaN        516.0    France    Male  46.0     2.0   \n",
       "...          ...     ...          ...       ...     ...   ...     ...   \n",
       "9400    15581388     NaN        487.0     Spain    Male  33.0     8.0   \n",
       "9491    15579040     NaN        556.0    France  Female  46.0    10.0   \n",
       "9514    15578462     NaN        596.0     Spain  Female  76.0     9.0   \n",
       "9728    15572657     NaN        472.0    France    Male  29.0     8.0   \n",
       "9912    15568106     NaN        592.0    France  Female  38.0     8.0   \n",
       "\n",
       "        Balance  NumOfProducts  HasCrCard  IsActiveMember  EstimatedSalary  \\\n",
       "68         0.00            2.0        1.0             0.0        151375.73   \n",
       "176   140355.56            NaN        1.0             0.0        136329.96   \n",
       "248        0.00            2.0        1.0             0.0          1528.40   \n",
       "260   109676.52            1.0        1.0             1.0         25548.47   \n",
       "288        0.00            2.0        1.0             1.0        169122.54   \n",
       "...         ...            ...        ...             ...              ...   \n",
       "9400  145729.71            1.0        1.0             0.0         41365.85   \n",
       "9491       0.00            2.0        0.0             0.0        109184.24   \n",
       "9514  134208.25            1.0        1.0             1.0         13455.43   \n",
       "9728  102490.27            1.0        0.0             1.0        181224.56   \n",
       "9912  119278.01            2.0        0.0             1.0         19370.73   \n",
       "\n",
       "      Exited  \n",
       "68         0  \n",
       "176        0  \n",
       "248        0  \n",
       "260        0  \n",
       "288        0  \n",
       "...      ...  \n",
       "9400       0  \n",
       "9491       0  \n",
       "9514       0  \n",
       "9728       0  \n",
       "9912       0  \n",
       "\n",
       "[92 rows x 13 columns]"
      ]
     },
     "execution_count": 92,
     "metadata": {},
     "output_type": "execute_result"
    }
   ],
   "source": [
    "df_bank[df_bank['Surname'].isna()]"
   ]
  },
  {
   "cell_type": "code",
   "execution_count": 93,
   "id": "5921a336-0760-4380-9ee4-6764c6324c4f",
   "metadata": {},
   "outputs": [],
   "source": [
    "df_bank.loc[df_bank['Surname'].isna(),'Surname']='NotReported'"
   ]
  },
  {
   "cell_type": "code",
   "execution_count": 94,
   "id": "d2b2b093-74ae-424d-98cf-c92d598771f3",
   "metadata": {},
   "outputs": [
    {
     "data": {
      "text/plain": [
       "0"
      ]
     },
     "execution_count": 94,
     "metadata": {},
     "output_type": "execute_result"
    }
   ],
   "source": [
    "df_bank['Surname'].isna().sum()"
   ]
  },
  {
   "cell_type": "code",
   "execution_count": 95,
   "id": "41c3df12-4c33-45b8-9782-96baa4ae800b",
   "metadata": {},
   "outputs": [
    {
     "data": {
      "text/plain": [
       "18"
      ]
     },
     "execution_count": 95,
     "metadata": {},
     "output_type": "execute_result"
    }
   ],
   "source": [
    "df_bank['CreditScore'].isna().sum()"
   ]
  },
  {
   "cell_type": "markdown",
   "id": "9f0c4202-8b0d-4483-9e01-7f1b687a64a5",
   "metadata": {},
   "source": [
    "## CreditScore is a continuous numerical value between 300 - 850 that depicts a customer's creditworthiness.\n",
    "## The higher the score, the better a borrower looks to potential lenders."
   ]
  },
  {
   "cell_type": "code",
   "execution_count": 97,
   "id": "552e0f17-0781-49f5-90e1-f2406c1e2e18",
   "metadata": {},
   "outputs": [
    {
     "data": {
      "text/plain": [
       "count    9982.000000\n",
       "mean      650.902076\n",
       "std       100.409554\n",
       "min       350.000000\n",
       "25%       584.000000\n",
       "50%       652.000000\n",
       "75%       718.000000\n",
       "max      2924.008649\n",
       "Name: CreditScore, dtype: float64"
      ]
     },
     "execution_count": 97,
     "metadata": {},
     "output_type": "execute_result"
    }
   ],
   "source": [
    "df_bank['CreditScore'].describe()"
   ]
  },
  {
   "cell_type": "code",
   "execution_count": 98,
   "id": "1a1fefff-14c8-4a81-a0d5-77d22a50008a",
   "metadata": {},
   "outputs": [
    {
     "data": {
      "text/plain": [
       "<Axes: >"
      ]
     },
     "execution_count": 98,
     "metadata": {},
     "output_type": "execute_result"
    },
    {
     "data": {
      "image/png": "[encoded data removed]",
      "text/plain": [
       "<Figure size 640x480 with 1 Axes>"
      ]
     },
     "metadata": {},
     "output_type": "display_data"
    }
   ],
   "source": [
    "df_bank.boxplot(column=['CreditScore'])"
   ]
  },
  {
   "cell_type": "code",
   "execution_count": 99,
   "id": "e837e811-4065-43f2-8474-0c8f51a5ad39",
   "metadata": {},
   "outputs": [
    {
     "data": {
      "text/html": [
       "<div>\n",
       "<style scoped>\n",
       "    .dataframe tbody tr th:only-of-type {\n",
       "        vertical-align: middle;\n",
       "    }\n",
       "\n",
       "    .dataframe tbody tr th {\n",
       "        vertical-align: top;\n",
       "    }\n",
       "\n",
       "    .dataframe thead th {\n",
       "        text-align: right;\n",
       "    }\n",
       "</style>\n",
       "<table border=\"1\" class=\"dataframe\">\n",
       "  <thead>\n",
       "    <tr style=\"text-align: right;\">\n",
       "      <th></th>\n",
       "      <th>CustomerId</th>\n",
       "      <th>Surname</th>\n",
       "      <th>CreditScore</th>\n",
       "      <th>Geography</th>\n",
       "      <th>Gender</th>\n",
       "      <th>Age</th>\n",
       "      <th>Tenure</th>\n",
       "      <th>Balance</th>\n",
       "      <th>NumOfProducts</th>\n",
       "      <th>HasCrCard</th>\n",
       "      <th>IsActiveMember</th>\n",
       "      <th>EstimatedSalary</th>\n",
       "      <th>Exited</th>\n",
       "    </tr>\n",
       "  </thead>\n",
       "  <tbody>\n",
       "    <tr>\n",
       "      <th>1553</th>\n",
       "      <td>15776631</td>\n",
       "      <td>Ma</td>\n",
       "      <td>2158.510025</td>\n",
       "      <td>France</td>\n",
       "      <td>Female</td>\n",
       "      <td>36.0</td>\n",
       "      <td>5.0</td>\n",
       "      <td>119540.15</td>\n",
       "      <td>1.0</td>\n",
       "      <td>0.0</td>\n",
       "      <td>1.0</td>\n",
       "      <td>80603.99</td>\n",
       "      <td>0</td>\n",
       "    </tr>\n",
       "    <tr>\n",
       "      <th>3502</th>\n",
       "      <td>15727619</td>\n",
       "      <td>Lock</td>\n",
       "      <td>2924.008649</td>\n",
       "      <td>Germany</td>\n",
       "      <td>Female</td>\n",
       "      <td>46.0</td>\n",
       "      <td>9.0</td>\n",
       "      <td>113909.69</td>\n",
       "      <td>3.0</td>\n",
       "      <td>1.0</td>\n",
       "      <td>0.0</td>\n",
       "      <td>92320.37</td>\n",
       "      <td>1</td>\n",
       "    </tr>\n",
       "  </tbody>\n",
       "</table>\n",
       "</div>"
      ],
      "text/plain": [
       "      CustomerId Surname  CreditScore Geography  Gender   Age  Tenure  \\\n",
       "1553    15776631      Ma  2158.510025    France  Female  36.0     5.0   \n",
       "3502    15727619    Lock  2924.008649   Germany  Female  46.0     9.0   \n",
       "\n",
       "        Balance  NumOfProducts  HasCrCard  IsActiveMember  EstimatedSalary  \\\n",
       "1553  119540.15            1.0        0.0             1.0         80603.99   \n",
       "3502  113909.69            3.0        1.0             0.0         92320.37   \n",
       "\n",
       "      Exited  \n",
       "1553       0  \n",
       "3502       1  "
      ]
     },
     "execution_count": 99,
     "metadata": {},
     "output_type": "execute_result"
    }
   ],
   "source": [
    "df_bank[(df_bank['CreditScore']>850) | (df_bank['CreditScore']<300)]"
   ]
  },
  {
   "cell_type": "code",
   "execution_count": 100,
   "id": "74468172-6c9d-4f9e-8710-bdefe5e24518",
   "metadata": {},
   "outputs": [],
   "source": [
    "Credit_score_mean=df_bank[(df_bank['CreditScore']<=850) & (df_bank['CreditScore']>=300)]['CreditScore'].mean()"
   ]
  },
  {
   "cell_type": "code",
   "execution_count": 101,
   "id": "58aaa9cc-9672-40e3-ac57-72c2a4c838fe",
   "metadata": {},
   "outputs": [],
   "source": [
    "df_bank['CreditScore'].fillna(Credit_score_mean,inplace=True)"
   ]
  },
  {
   "cell_type": "code",
   "execution_count": 102,
   "id": "b037c723-cdf4-4bdb-ab69-75d91c881fc1",
   "metadata": {},
   "outputs": [
    {
     "data": {
      "text/plain": [
       "False"
      ]
     },
     "execution_count": 102,
     "metadata": {},
     "output_type": "execute_result"
    }
   ],
   "source": [
    "df_bank['CreditScore'].isna().any()"
   ]
  },
  {
   "cell_type": "code",
   "execution_count": 103,
   "id": "e1a79904-5ac8-46c2-9867-acb40d1666b9",
   "metadata": {},
   "outputs": [],
   "source": [
    "df_bank.loc[(df_bank['CreditScore']>850) | (df_bank['CreditScore']<300),'CreditScore']=Credit_score_mean"
   ]
  },
  {
   "cell_type": "code",
   "execution_count": 104,
   "id": "3dcb96a7-85a7-421e-a701-f86bd9245f97",
   "metadata": {},
   "outputs": [
    {
     "data": {
      "text/plain": [
       "count    10000.000000\n",
       "mean       650.523246\n",
       "std         96.538706\n",
       "min        350.000000\n",
       "25%        584.000000\n",
       "50%        651.500000\n",
       "75%        717.000000\n",
       "max        850.000000\n",
       "Name: CreditScore, dtype: float64"
      ]
     },
     "execution_count": 104,
     "metadata": {},
     "output_type": "execute_result"
    }
   ],
   "source": [
    "df_bank['CreditScore'].describe()"
   ]
  },
  {
   "cell_type": "code",
   "execution_count": 105,
   "id": "c183cf88-1296-4f65-a84a-1b58f31ec719",
   "metadata": {},
   "outputs": [
    {
     "data": {
      "text/plain": [
       "Geography\n",
       "France     4923\n",
       "Germany    2451\n",
       "Spain      2431\n",
       "NaN         195\n",
       "Name: count, dtype: int64"
      ]
     },
     "execution_count": 105,
     "metadata": {},
     "output_type": "execute_result"
    }
   ],
   "source": [
    "df_bank['Geography'].value_counts(dropna=False)"
   ]
  },
  {
   "cell_type": "code",
   "execution_count": 106,
   "id": "1d98018d-65a7-4dd6-84ef-f4417330daaf",
   "metadata": {},
   "outputs": [],
   "source": [
    "import seaborn as sns\n",
    "import matplotlib.pyplot as plt"
   ]
  },
  {
   "cell_type": "code",
   "execution_count": 107,
   "id": "3f2bc12f-aac1-4718-be78-fa3f8d287199",
   "metadata": {},
   "outputs": [
    {
     "data": {
      "image/png": "[encoded data removed]",
      "text/plain": [
       "<Figure size 640x480 with 1 Axes>"
      ]
     },
     "metadata": {},
     "output_type": "display_data"
    }
   ],
   "source": [
    "sns.countplot(x=df_bank['Geography'])\n",
    "plt.show()"
   ]
  },
  {
   "cell_type": "code",
   "execution_count": 108,
   "id": "106264ea-4ab1-4302-9b9e-82a722e67094",
   "metadata": {},
   "outputs": [],
   "source": [
    "df_bank.loc[df_bank['Geography'].isna(),'Geography']='NotReported'"
   ]
  },
  {
   "cell_type": "code",
   "execution_count": 109,
   "id": "4f48d8f4-efa6-4e03-a8c4-0c66912fff6d",
   "metadata": {},
   "outputs": [
    {
     "data": {
      "text/plain": [
       "Geography\n",
       "France         4923\n",
       "Germany        2451\n",
       "Spain          2431\n",
       "NotReported     195\n",
       "Name: count, dtype: int64"
      ]
     },
     "execution_count": 109,
     "metadata": {},
     "output_type": "execute_result"
    }
   ],
   "source": [
    "df_bank['Geography'].value_counts()"
   ]
  },
  {
   "cell_type": "code",
   "execution_count": 110,
   "id": "7ad7c88b-1019-4e7b-a727-7f6359920446",
   "metadata": {},
   "outputs": [
    {
     "data": {
      "text/plain": [
       "Gender\n",
       "Male      5304\n",
       "Female    4418\n",
       "NaN        278\n",
       "Name: count, dtype: int64"
      ]
     },
     "execution_count": 110,
     "metadata": {},
     "output_type": "execute_result"
    }
   ],
   "source": [
    "df_bank['Gender'].value_counts(dropna=False)"
   ]
  },
  {
   "cell_type": "code",
   "execution_count": 111,
   "id": "1161c339-387d-49b4-91b0-ddb16ed0c820",
   "metadata": {},
   "outputs": [],
   "source": [
    "df_bank.loc[df_bank['Gender'].isna(),'Gender']='NotSpecified'"
   ]
  },
  {
   "cell_type": "code",
   "execution_count": 112,
   "id": "10e8e6b1-a8cb-46bb-8c32-b0837eff29c3",
   "metadata": {},
   "outputs": [
    {
     "data": {
      "image/png": "[encoded data removed]",
      "text/plain": [
       "<Figure size 640x480 with 1 Axes>"
      ]
     },
     "metadata": {},
     "output_type": "display_data"
    }
   ],
   "source": [
    "sns.countplot(x=df_bank['Gender'])\n",
    "plt.show()"
   ]
  },
  {
   "cell_type": "code",
   "execution_count": 113,
   "id": "313363d4-e881-426f-9260-bb3d61696b67",
   "metadata": {},
   "outputs": [
    {
     "data": {
      "text/plain": [
       "count    9739.000000\n",
       "mean       38.950816\n",
       "std        10.560797\n",
       "min       -49.000000\n",
       "25%        32.000000\n",
       "50%        37.000000\n",
       "75%        44.000000\n",
       "max        92.000000\n",
       "Name: Age, dtype: float64"
      ]
     },
     "execution_count": 113,
     "metadata": {},
     "output_type": "execute_result"
    }
   ],
   "source": [
    "df_bank['Age'].describe()"
   ]
  },
  {
   "cell_type": "code",
   "execution_count": 114,
   "id": "52815136-c6c5-4c6a-8c8d-490769a431c7",
   "metadata": {},
   "outputs": [
    {
     "data": {
      "text/plain": [
       "261"
      ]
     },
     "execution_count": 114,
     "metadata": {},
     "output_type": "execute_result"
    }
   ],
   "source": [
    "df_bank['Age'].isna().sum()"
   ]
  },
  {
   "cell_type": "code",
   "execution_count": 115,
   "id": "934ab254-7f72-49ce-bb0d-af30cdcf5196",
   "metadata": {},
   "outputs": [
    {
     "data": {
      "text/html": [
       "<div>\n",
       "<style scoped>\n",
       "    .dataframe tbody tr th:only-of-type {\n",
       "        vertical-align: middle;\n",
       "    }\n",
       "\n",
       "    .dataframe tbody tr th {\n",
       "        vertical-align: top;\n",
       "    }\n",
       "\n",
       "    .dataframe thead th {\n",
       "        text-align: right;\n",
       "    }\n",
       "</style>\n",
       "<table border=\"1\" class=\"dataframe\">\n",
       "  <thead>\n",
       "    <tr style=\"text-align: right;\">\n",
       "      <th></th>\n",
       "      <th>CustomerId</th>\n",
       "      <th>Surname</th>\n",
       "      <th>CreditScore</th>\n",
       "      <th>Geography</th>\n",
       "      <th>Gender</th>\n",
       "      <th>Age</th>\n",
       "      <th>Tenure</th>\n",
       "      <th>Balance</th>\n",
       "      <th>NumOfProducts</th>\n",
       "      <th>HasCrCard</th>\n",
       "      <th>IsActiveMember</th>\n",
       "      <th>EstimatedSalary</th>\n",
       "      <th>Exited</th>\n",
       "    </tr>\n",
       "  </thead>\n",
       "  <tbody>\n",
       "    <tr>\n",
       "      <th>4766</th>\n",
       "      <td>15696637</td>\n",
       "      <td>Sung</td>\n",
       "      <td>571.0</td>\n",
       "      <td>France</td>\n",
       "      <td>Female</td>\n",
       "      <td>-23.0</td>\n",
       "      <td>10.0</td>\n",
       "      <td>151097.28</td>\n",
       "      <td>1.0</td>\n",
       "      <td>0.0</td>\n",
       "      <td>1.0</td>\n",
       "      <td>17163.75</td>\n",
       "      <td>0</td>\n",
       "    </tr>\n",
       "    <tr>\n",
       "      <th>5417</th>\n",
       "      <td>15680430</td>\n",
       "      <td>Ajuluchukwu</td>\n",
       "      <td>601.0</td>\n",
       "      <td>Germany</td>\n",
       "      <td>Female</td>\n",
       "      <td>-49.0</td>\n",
       "      <td>4.0</td>\n",
       "      <td>96252.98</td>\n",
       "      <td>2.0</td>\n",
       "      <td>1.0</td>\n",
       "      <td>NaN</td>\n",
       "      <td>104263.82</td>\n",
       "      <td>0</td>\n",
       "    </tr>\n",
       "  </tbody>\n",
       "</table>\n",
       "</div>"
      ],
      "text/plain": [
       "      CustomerId      Surname  CreditScore Geography  Gender   Age  Tenure  \\\n",
       "4766    15696637         Sung        571.0    France  Female -23.0    10.0   \n",
       "5417    15680430  Ajuluchukwu        601.0   Germany  Female -49.0     4.0   \n",
       "\n",
       "        Balance  NumOfProducts  HasCrCard  IsActiveMember  EstimatedSalary  \\\n",
       "4766  151097.28            1.0        0.0             1.0         17163.75   \n",
       "5417   96252.98            2.0        1.0             NaN        104263.82   \n",
       "\n",
       "      Exited  \n",
       "4766       0  \n",
       "5417       0  "
      ]
     },
     "execution_count": 115,
     "metadata": {},
     "output_type": "execute_result"
    }
   ],
   "source": [
    "df_bank.loc[df_bank['Age']<18]"
   ]
  },
  {
   "cell_type": "code",
   "execution_count": 116,
   "id": "de41dbaa-aab2-4d04-ade5-e963c2ac8907",
   "metadata": {},
   "outputs": [
    {
     "data": {
      "text/plain": [
       "Age\n",
       ".0    9739\n",
       "an     261\n",
       "Name: count, dtype: int64"
      ]
     },
     "execution_count": 116,
     "metadata": {},
     "output_type": "execute_result"
    }
   ],
   "source": [
    "df_bank['Age'].astype(str).str[-2:].value_counts()"
   ]
  },
  {
   "cell_type": "code",
   "execution_count": 117,
   "id": "4f689e3e-3271-4c83-86b0-6e063676fe82",
   "metadata": {},
   "outputs": [],
   "source": [
    "Age_median=df_bank[df_bank['Age']>=18]['Age'].median()"
   ]
  },
  {
   "cell_type": "code",
   "execution_count": 118,
   "id": "1ffbb185-96eb-40ae-bfd3-e2ffcf09a7ed",
   "metadata": {},
   "outputs": [],
   "source": [
    "df_bank.loc[df_bank['Age'].isna(),'Age']=Age_median"
   ]
  },
  {
   "cell_type": "code",
   "execution_count": 119,
   "id": "b6bfccf8-eb64-47bf-b34b-2096473ef029",
   "metadata": {},
   "outputs": [
    {
     "data": {
      "text/plain": [
       "0"
      ]
     },
     "execution_count": 119,
     "metadata": {},
     "output_type": "execute_result"
    }
   ],
   "source": [
    "df_bank['Age'].isna().sum()"
   ]
  },
  {
   "cell_type": "code",
   "execution_count": 120,
   "id": "40efb092-7253-480b-be80-c56f11b1b27d",
   "metadata": {},
   "outputs": [],
   "source": [
    "def df_outlier(df,col):\n",
    "    IQR=df[col].quantile(.75)-df[col].quantile(.25)\n",
    "    Lower_limit=df[col].quantile(.25)-(IQR*1.5)\n",
    "    Upper_limit=df[col].quantile(.75)+(IQR*1.5)\n",
    "    return Lower_limit,Upper_limit"
   ]
  },
  {
   "cell_type": "code",
   "execution_count": 121,
   "id": "af80f6c6-a00f-45c0-a399-c3888d22b8df",
   "metadata": {},
   "outputs": [
    {
     "data": {
      "text/plain": [
       "(14.0, 62.0)"
      ]
     },
     "execution_count": 121,
     "metadata": {},
     "output_type": "execute_result"
    }
   ],
   "source": [
    "df_outlier(df_bank,'Age')"
   ]
  },
  {
   "cell_type": "code",
   "execution_count": 122,
   "id": "d8f49ac7-674a-4905-ac8f-391f9fa9a4f0",
   "metadata": {},
   "outputs": [
    {
     "data": {
      "text/plain": [
       "Tenure\n",
       " 2.000000     1039\n",
       " 1.000000     1024\n",
       " 7.000000     1022\n",
       " 8.000000     1016\n",
       " 3.000000     1006\n",
       " 5.000000     1002\n",
       " 4.000000      981\n",
       " 9.000000      975\n",
       " 6.000000      959\n",
       " 10.000000     486\n",
       " 0.000000      410\n",
       " NaN            78\n",
       " 32.044103       1\n",
       "-5.000000        1\n",
       "Name: count, dtype: int64"
      ]
     },
     "execution_count": 122,
     "metadata": {},
     "output_type": "execute_result"
    }
   ],
   "source": [
    "df_bank['Tenure'].value_counts(dropna=False)"
   ]
  },
  {
   "cell_type": "code",
   "execution_count": 123,
   "id": "c92b4cf1-6b74-4f21-b69c-c557cf6353c2",
   "metadata": {},
   "outputs": [
    {
     "data": {
      "text/plain": [
       "count    9922.000000\n",
       "mean        5.014316\n",
       "std         2.905638\n",
       "min        -5.000000\n",
       "25%         3.000000\n",
       "50%         5.000000\n",
       "75%         7.000000\n",
       "max        32.044103\n",
       "Name: Tenure, dtype: float64"
      ]
     },
     "execution_count": 123,
     "metadata": {},
     "output_type": "execute_result"
    }
   ],
   "source": [
    "df_bank['Tenure'].describe()"
   ]
  },
  {
   "cell_type": "code",
   "execution_count": 124,
   "id": "aef8df37-e79a-46d9-aba3-e6271daae619",
   "metadata": {},
   "outputs": [
    {
     "data": {
      "text/plain": [
       "<Axes: xlabel='Tenure'>"
      ]
     },
     "execution_count": 124,
     "metadata": {},
     "output_type": "execute_result"
    }
   ],
   "source": [
    "sns.boxplot(x=df_bank['Tenure'])"
   ]
  },
  {
   "cell_type": "code",
   "execution_count": 125,
   "id": "d2deb486-1930-44c4-8d58-ca3e0add097f",
   "metadata": {},
   "outputs": [],
   "source": [
    "Tenure_Median=df_bank.loc[(df_bank['Tenure']>=0) | (df_bank['Tenure']<=10),'Tenure'].median()"
   ]
  },
  {
   "cell_type": "code",
   "execution_count": 126,
   "id": "e2a66842-e0c1-456a-a72c-479f811991ec",
   "metadata": {},
   "outputs": [],
   "source": [
    "df_bank['Tenure'].fillna(Tenure_Median,inplace=True)"
   ]
  },
  {
   "cell_type": "code",
   "execution_count": 127,
   "id": "ff328f8b-a89f-4d9d-8e85-ce08b30cdf13",
   "metadata": {},
   "outputs": [],
   "source": [
    "df_bank.loc[(df_bank['Tenure']<0) | (df_bank['Tenure']>15),'Tenure']=Tenure_Median"
   ]
  },
  {
   "cell_type": "code",
   "execution_count": 128,
   "id": "32503acc-60ba-4c2c-abb0-1ea90021b8ca",
   "metadata": {},
   "outputs": [
    {
     "data": {
      "text/plain": [
       "Tenure\n",
       "5.0     1082\n",
       "2.0     1039\n",
       "1.0     1024\n",
       "7.0     1022\n",
       "8.0     1016\n",
       "3.0     1006\n",
       "4.0      981\n",
       "9.0      975\n",
       "6.0      959\n",
       "10.0     486\n",
       "0.0      410\n",
       "Name: count, dtype: int64"
      ]
     },
     "execution_count": 128,
     "metadata": {},
     "output_type": "execute_result"
    }
   ],
   "source": [
    "df_bank['Tenure'].value_counts()"
   ]
  },
  {
   "cell_type": "code",
   "execution_count": 281,
   "id": "21756f3a-cea8-4341-93cc-0cc9876cef36",
   "metadata": {},
   "outputs": [
    {
     "data": {
      "image/png": "[encoded data removed]",
      "text/plain": [
       "<Figure size 500x500 with 1 Axes>"
      ]
     },
     "metadata": {},
     "output_type": "display_data"
    }
   ],
   "source": [
    "sns.displot(x=df_bank['Tenure'],bins=10,kde=True)\n",
    "plt.show()"
   ]
  },
  {
   "cell_type": "code",
   "execution_count": 130,
   "id": "307170f0-127a-4fa4-82ea-4400b9f4c2f3",
   "metadata": {},
   "outputs": [
    {
     "data": {
      "text/plain": [
       "count    9.850000e+03\n",
       "mean     7.672267e+04\n",
       "std      6.372769e+04\n",
       "min      0.000000e+00\n",
       "25%      0.000000e+00\n",
       "50%      9.724599e+04\n",
       "75%      1.276414e+05\n",
       "max      1.036826e+06\n",
       "Name: Balance, dtype: float64"
      ]
     },
     "execution_count": 130,
     "metadata": {},
     "output_type": "execute_result"
    }
   ],
   "source": [
    "df_bank['Balance'].describe()"
   ]
  },
  {
   "cell_type": "code",
   "execution_count": 131,
   "id": "7766f043-86c6-470e-bccb-405131626cee",
   "metadata": {},
   "outputs": [
    {
     "data": {
      "text/plain": [
       "150"
      ]
     },
     "execution_count": 131,
     "metadata": {},
     "output_type": "execute_result"
    }
   ],
   "source": [
    "df_bank['Balance'].isna().sum()"
   ]
  },
  {
   "cell_type": "code",
   "execution_count": 132,
   "id": "125070ad-32de-4aea-a843-daa946fa5e4f",
   "metadata": {},
   "outputs": [
    {
     "data": {
      "text/plain": [
       "<Axes: xlabel='Balance', ylabel='Density'>"
      ]
     },
     "execution_count": 132,
     "metadata": {},
     "output_type": "execute_result"
    }
   ],
   "source": [
    "sns.distplot(df_bank['Balance'])"
   ]
  },
  {
   "cell_type": "code",
   "execution_count": 133,
   "id": "ea757e43-2192-46e3-beed-c9d17ee8b731",
   "metadata": {},
   "outputs": [],
   "source": [
    "Balance_less_than=df_bank[df_bank['Balance']<0.4e6][['Balance']]"
   ]
  },
  {
   "cell_type": "code",
   "execution_count": 134,
   "id": "e6fca6a6-9d5c-4ddd-866e-f275ea3b0d1c",
   "metadata": {},
   "outputs": [
    {
     "data": {
      "text/plain": [
       "<seaborn.axisgrid.FacetGrid at 0x13563ca6060>"
      ]
     },
     "execution_count": 134,
     "metadata": {},
     "output_type": "execute_result"
    }
   ],
   "source": [
    "sns.displot(Balance_less_than)"
   ]
  },
  {
   "cell_type": "code",
   "execution_count": 135,
   "id": "57ebd965-c00d-4f67-b0cf-bd795c253fe8",
   "metadata": {},
   "outputs": [
    {
     "data": {
      "text/plain": [
       "319103.54375000007"
      ]
     },
     "execution_count": 135,
     "metadata": {},
     "output_type": "execute_result"
    }
   ],
   "source": [
    "df_outlier(df_bank,'Balance')[1]"
   ]
  },
  {
   "cell_type": "code",
   "execution_count": 136,
   "id": "ef63d737-13f5-49bb-90ea-538d08154769",
   "metadata": {},
   "outputs": [
    {
     "data": {
      "text/html": [
       "<div>\n",
       "<style scoped>\n",
       "    .dataframe tbody tr th:only-of-type {\n",
       "        vertical-align: middle;\n",
       "    }\n",
       "\n",
       "    .dataframe tbody tr th {\n",
       "        vertical-align: top;\n",
       "    }\n",
       "\n",
       "    .dataframe thead th {\n",
       "        text-align: right;\n",
       "    }\n",
       "</style>\n",
       "<table border=\"1\" class=\"dataframe\">\n",
       "  <thead>\n",
       "    <tr style=\"text-align: right;\">\n",
       "      <th></th>\n",
       "      <th>CustomerId</th>\n",
       "      <th>Surname</th>\n",
       "      <th>CreditScore</th>\n",
       "      <th>Geography</th>\n",
       "      <th>Gender</th>\n",
       "      <th>Age</th>\n",
       "      <th>Tenure</th>\n",
       "      <th>Balance</th>\n",
       "      <th>NumOfProducts</th>\n",
       "      <th>HasCrCard</th>\n",
       "      <th>IsActiveMember</th>\n",
       "      <th>EstimatedSalary</th>\n",
       "      <th>Exited</th>\n",
       "    </tr>\n",
       "  </thead>\n",
       "  <tbody>\n",
       "    <tr>\n",
       "      <th>797</th>\n",
       "      <td>15795540</td>\n",
       "      <td>Reye</td>\n",
       "      <td>556.0</td>\n",
       "      <td>France</td>\n",
       "      <td>Female</td>\n",
       "      <td>36.0</td>\n",
       "      <td>2.0</td>\n",
       "      <td>1.036826e+06</td>\n",
       "      <td>1.0</td>\n",
       "      <td>0.0</td>\n",
       "      <td>1.0</td>\n",
       "      <td>177670.57</td>\n",
       "      <td>0</td>\n",
       "    </tr>\n",
       "    <tr>\n",
       "      <th>4456</th>\n",
       "      <td>15704284</td>\n",
       "      <td>Ekechukwu</td>\n",
       "      <td>736.0</td>\n",
       "      <td>Germany</td>\n",
       "      <td>Male</td>\n",
       "      <td>57.0</td>\n",
       "      <td>9.0</td>\n",
       "      <td>9.697802e+05</td>\n",
       "      <td>1.0</td>\n",
       "      <td>1.0</td>\n",
       "      <td>0.0</td>\n",
       "      <td>28434.44</td>\n",
       "      <td>1</td>\n",
       "    </tr>\n",
       "  </tbody>\n",
       "</table>\n",
       "</div>"
      ],
      "text/plain": [
       "      CustomerId    Surname  CreditScore Geography  Gender   Age  Tenure  \\\n",
       "797     15795540       Reye        556.0    France  Female  36.0     2.0   \n",
       "4456    15704284  Ekechukwu        736.0   Germany    Male  57.0     9.0   \n",
       "\n",
       "           Balance  NumOfProducts  HasCrCard  IsActiveMember  EstimatedSalary  \\\n",
       "797   1.036826e+06            1.0        0.0             1.0        177670.57   \n",
       "4456  9.697802e+05            1.0        1.0             0.0         28434.44   \n",
       "\n",
       "      Exited  \n",
       "797        0  \n",
       "4456       1  "
      ]
     },
     "execution_count": 136,
     "metadata": {},
     "output_type": "execute_result"
    }
   ],
   "source": [
    "df_bank[df_bank['Balance']>df_outlier(df_bank,'Balance')[1]]"
   ]
  },
  {
   "cell_type": "code",
   "execution_count": 137,
   "id": "e63caa14-45a9-40e0-ae94-a21e22de74b2",
   "metadata": {},
   "outputs": [],
   "source": [
    "Balance_mean=df_bank.loc[df_bank['Balance']<df_outlier(df_bank,'Balance')[1],'Balance'].mean()"
   ]
  },
  {
   "cell_type": "code",
   "execution_count": 138,
   "id": "7aa6ec6e-d95f-4c07-80b3-07ce29380922",
   "metadata": {},
   "outputs": [],
   "source": [
    "df_bank.loc[df_bank['Balance']>df_outlier(df_bank,'Balance')[1],'Balance']=Balance_mean"
   ]
  },
  {
   "cell_type": "code",
   "execution_count": 139,
   "id": "d26d9343-6fa3-475d-88f8-3153fba7c789",
   "metadata": {},
   "outputs": [],
   "source": [
    "df_bank['Balance'].fillna(Balance_mean,inplace=True)"
   ]
  },
  {
   "cell_type": "code",
   "execution_count": 140,
   "id": "25a05198-16b4-4f0a-8299-5093a75670d2",
   "metadata": {},
   "outputs": [
    {
     "data": {
      "text/plain": [
       "Balance\n",
       "0.000000         3555\n",
       "76534.495403      152\n",
       "105473.740000       2\n",
       "130170.820000       2\n",
       "119684.880000       1\n",
       "                 ... \n",
       "100471.340000       1\n",
       "95900.040000        1\n",
       "105301.500000       1\n",
       "87842.980000        1\n",
       "161993.890000       1\n",
       "Name: count, Length: 6293, dtype: int64"
      ]
     },
     "execution_count": 140,
     "metadata": {},
     "output_type": "execute_result"
    }
   ],
   "source": [
    "df_bank['Balance'].value_counts()"
   ]
  },
  {
   "cell_type": "code",
   "execution_count": 141,
   "id": "2a6d279b-4b18-4cc6-b093-1134c175290d",
   "metadata": {},
   "outputs": [
    {
     "data": {
      "text/plain": [
       "<Axes: ylabel='Count'>"
      ]
     },
     "execution_count": 141,
     "metadata": {},
     "output_type": "execute_result"
    }
   ],
   "source": [
    "sns.boxplot(y=df_bank['Balance'])"
   ]
  },
  {
   "cell_type": "code",
   "execution_count": 142,
   "id": "b5446c7c-f968-42b1-8e26-5a9a025aa36c",
   "metadata": {},
   "outputs": [
    {
     "data": {
      "text/plain": [
       "count     10000.000000\n",
       "mean      76534.495403\n",
       "std       61873.309567\n",
       "min           0.000000\n",
       "25%           0.000000\n",
       "50%       96131.715000\n",
       "75%      127259.430000\n",
       "max      250898.090000\n",
       "Name: Balance, dtype: float64"
      ]
     },
     "execution_count": 142,
     "metadata": {},
     "output_type": "execute_result"
    }
   ],
   "source": [
    "df_bank['Balance'].describe()"
   ]
  },
  {
   "cell_type": "code",
   "execution_count": 143,
   "id": "d9d9e367-f8f7-4301-890e-790df7563ccd",
   "metadata": {},
   "outputs": [
    {
     "data": {
      "text/plain": [
       "NumOfProducts\n",
       " 1.00000     4945\n",
       " 2.00000     4450\n",
       " NaN          286\n",
       " 3.00000      255\n",
       " 4.00000       58\n",
       "-2.00000        3\n",
       "-1.00000        2\n",
       " 11.17746       1\n",
       "Name: count, dtype: int64"
      ]
     },
     "execution_count": 143,
     "metadata": {},
     "output_type": "execute_result"
    }
   ],
   "source": [
    "df_bank['NumOfProducts'].value_counts(dropna=False)"
   ]
  },
  {
   "cell_type": "code",
   "execution_count": 144,
   "id": "d17bd7fd-9534-4c35-8476-6ed1f60febba",
   "metadata": {},
   "outputs": [],
   "source": [
    "df_bank['NumOfProducts']=df_bank['NumOfProducts'].apply(lambda x: abs(x))"
   ]
  },
  {
   "cell_type": "code",
   "execution_count": 145,
   "id": "5b9325ba-a55d-45bf-9591-9050ad4536ad",
   "metadata": {},
   "outputs": [
    {
     "data": {
      "text/plain": [
       "NumOfProducts\n",
       "1.00000     4947\n",
       "2.00000     4453\n",
       "NaN          286\n",
       "3.00000      255\n",
       "4.00000       58\n",
       "11.17746       1\n",
       "Name: count, dtype: int64"
      ]
     },
     "execution_count": 145,
     "metadata": {},
     "output_type": "execute_result"
    }
   ],
   "source": [
    "df_bank['NumOfProducts'].value_counts(dropna=False)"
   ]
  },
  {
   "cell_type": "code",
   "execution_count": 146,
   "id": "2beeb6bf-820d-41a2-9534-51789ba09f71",
   "metadata": {},
   "outputs": [],
   "source": [
    "NumOfProducts_median=df_bank.loc[df_bank['NumOfProducts']<10,'NumOfProducts'].median()"
   ]
  },
  {
   "cell_type": "code",
   "execution_count": 147,
   "id": "2a400e19-f7fa-4479-b5b8-d804f9b5e272",
   "metadata": {},
   "outputs": [],
   "source": [
    "df_bank.loc[df_bank['NumOfProducts']>10,'NumOfProducts']=NumOfProducts_median"
   ]
  },
  {
   "cell_type": "code",
   "execution_count": 148,
   "id": "e44961d6-baa6-433c-9a30-a131d7815a4b",
   "metadata": {},
   "outputs": [],
   "source": [
    "df_bank['NumOfProducts'].fillna(NumOfProducts_median,inplace=True)"
   ]
  },
  {
   "cell_type": "code",
   "execution_count": 149,
   "id": "c0a0e648-67d6-4d40-943c-eac9dffb17a2",
   "metadata": {},
   "outputs": [
    {
     "data": {
      "text/plain": [
       "<Axes: ylabel='Count'>"
      ]
     },
     "execution_count": 149,
     "metadata": {},
     "output_type": "execute_result"
    }
   ],
   "source": [
    "sns.boxplot(df_bank['NumOfProducts'],showmeans=True)"
   ]
  },
  {
   "cell_type": "code",
   "execution_count": 150,
   "id": "73e67a98-9631-45ce-a0fe-644fd93ff697",
   "metadata": {},
   "outputs": [],
   "source": [
    "df_bank['NumOfProducts']=df_bank['NumOfProducts'].astype('int8')"
   ]
  },
  {
   "cell_type": "code",
   "execution_count": 151,
   "id": "e4b9ac5d-a7d6-41c5-89da-c0739265f85c",
   "metadata": {},
   "outputs": [
    {
     "data": {
      "text/plain": [
       "HasCrCard\n",
       "1.0    6996\n",
       "0.0    2924\n",
       "NaN      80\n",
       "Name: count, dtype: int64"
      ]
     },
     "execution_count": 151,
     "metadata": {},
     "output_type": "execute_result"
    }
   ],
   "source": [
    "df_bank['HasCrCard'].value_counts(dropna=False)"
   ]
  },
  {
   "cell_type": "code",
   "execution_count": 152,
   "id": "b019081a-9c95-40ea-8db3-18934d97d717",
   "metadata": {},
   "outputs": [],
   "source": [
    "df_bank['HasCrCard'].fillna(2.0,inplace=True)"
   ]
  },
  {
   "cell_type": "code",
   "execution_count": 153,
   "id": "b87e6277-b10c-47da-a19f-332294c9f71b",
   "metadata": {},
   "outputs": [
    {
     "data": {
      "text/plain": [
       "HasCrCard\n",
       "1.0    6996\n",
       "0.0    2924\n",
       "2.0      80\n",
       "Name: count, dtype: int64"
      ]
     },
     "execution_count": 153,
     "metadata": {},
     "output_type": "execute_result"
    }
   ],
   "source": [
    "df_bank['HasCrCard'].value_counts(dropna=False)"
   ]
  },
  {
   "cell_type": "code",
   "execution_count": 154,
   "id": "02eee1bb-8f8c-441a-9d2a-6ad4e4178f5c",
   "metadata": {},
   "outputs": [],
   "source": [
    "df_bank['HasCrCard']=df_bank['HasCrCard'].astype('int8')"
   ]
  },
  {
   "cell_type": "code",
   "execution_count": 155,
   "id": "c15e3cdc-bdd6-45e5-a425-73a4f1c089ba",
   "metadata": {},
   "outputs": [
    {
     "data": {
      "text/plain": [
       "IsActiveMember\n",
       "1.0    5104\n",
       "0.0    4809\n",
       "NaN      87\n",
       "Name: count, dtype: int64"
      ]
     },
     "execution_count": 155,
     "metadata": {},
     "output_type": "execute_result"
    }
   ],
   "source": [
    "df_bank['IsActiveMember'].value_counts(dropna=False)"
   ]
  },
  {
   "cell_type": "code",
   "execution_count": 156,
   "id": "2df84bd5-21cc-42f8-a5ad-e3e36b73dd90",
   "metadata": {},
   "outputs": [],
   "source": [
    "df_bank['IsActiveMember'].fillna(2.0,inplace=True)"
   ]
  },
  {
   "cell_type": "code",
   "execution_count": 157,
   "id": "e9c3b8d6-7ba8-4da6-94b2-36c0d97d6376",
   "metadata": {},
   "outputs": [],
   "source": [
    "df_bank['IsActiveMember']=df_bank['IsActiveMember'].astype('int8')"
   ]
  },
  {
   "cell_type": "code",
   "execution_count": 158,
   "id": "752a0bb1-2007-4845-a6a0-2f750b4a12eb",
   "metadata": {},
   "outputs": [
    {
     "data": {
      "text/plain": [
       "IsActiveMember\n",
       "1    5104\n",
       "0    4809\n",
       "2      87\n",
       "Name: count, dtype: int64"
      ]
     },
     "execution_count": 158,
     "metadata": {},
     "output_type": "execute_result"
    }
   ],
   "source": [
    "df_bank['IsActiveMember'].value_counts(dropna=False)"
   ]
  },
  {
   "cell_type": "code",
   "execution_count": 159,
   "id": "c1e6150a-91ab-47f8-9e9b-d2f485e59bec",
   "metadata": {},
   "outputs": [],
   "source": [
    "df_bank['IsActiveMember']=df_bank['IsActiveMember'].astype(pd.CategoricalDtype())"
   ]
  },
  {
   "cell_type": "code",
   "execution_count": 160,
   "id": "86875e31-6c78-4bd7-85be-dec5682935f6",
   "metadata": {},
   "outputs": [
    {
     "data": {
      "text/plain": [
       "CategoricalDtype(categories=[0, 1, 2], ordered=False, categories_dtype=int8)"
      ]
     },
     "execution_count": 160,
     "metadata": {},
     "output_type": "execute_result"
    }
   ],
   "source": [
    "df_bank['IsActiveMember'].dtype"
   ]
  },
  {
   "cell_type": "code",
   "execution_count": 161,
   "id": "790d2098-64e4-447c-98f0-0006191b0137",
   "metadata": {},
   "outputs": [
    {
     "data": {
      "text/plain": [
       "count      9957.000000\n",
       "mean     100117.009341\n",
       "std       57496.773622\n",
       "min          11.580000\n",
       "25%       51099.560000\n",
       "50%      100240.200000\n",
       "75%      149399.700000\n",
       "max      199992.480000\n",
       "Name: EstimatedSalary, dtype: float64"
      ]
     },
     "execution_count": 161,
     "metadata": {},
     "output_type": "execute_result"
    }
   ],
   "source": [
    "df_bank['EstimatedSalary'].describe()"
   ]
  },
  {
   "cell_type": "code",
   "execution_count": 162,
   "id": "e5e9b0e9-668f-4f72-9481-ecf3a10585e9",
   "metadata": {},
   "outputs": [
    {
     "data": {
      "text/plain": [
       "43"
      ]
     },
     "execution_count": 162,
     "metadata": {},
     "output_type": "execute_result"
    }
   ],
   "source": [
    "df_bank['EstimatedSalary'].isna().sum()"
   ]
  },
  {
   "cell_type": "code",
   "execution_count": 163,
   "id": "2111d35a-54ee-47c1-bcff-13b9f943d0e0",
   "metadata": {},
   "outputs": [
    {
     "data": {
      "text/plain": [
       "<Axes: ylabel='Count'>"
      ]
     },
     "execution_count": 163,
     "metadata": {},
     "output_type": "execute_result"
    }
   ],
   "source": [
    "sns.boxplot(df_bank['EstimatedSalary'])"
   ]
  },
  {
   "cell_type": "code",
   "execution_count": 164,
   "id": "feebea79-4af8-437b-8508-066309a61dd5",
   "metadata": {},
   "outputs": [],
   "source": [
    "salary_mean=df_bank['EstimatedSalary'].mean()"
   ]
  },
  {
   "cell_type": "code",
   "execution_count": 165,
   "id": "85906c5e-b576-45ea-8784-c16c6f99faad",
   "metadata": {},
   "outputs": [],
   "source": [
    "df_bank['EstimatedSalary'].fillna(salary_mean,inplace=True)"
   ]
  },
  {
   "cell_type": "code",
   "execution_count": 166,
   "id": "06811db5-ef85-4826-ba56-f4342df31ad4",
   "metadata": {},
   "outputs": [
    {
     "data": {
      "text/plain": [
       "False"
      ]
     },
     "execution_count": 166,
     "metadata": {},
     "output_type": "execute_result"
    }
   ],
   "source": [
    "df_bank['EstimatedSalary'].isna().any()"
   ]
  },
  {
   "cell_type": "code",
   "execution_count": 167,
   "id": "9e1e708b-9ceb-4467-b751-fb42b9011eef",
   "metadata": {},
   "outputs": [
    {
     "data": {
      "text/plain": [
       "Exited\n",
       "0    7963\n",
       "1    2037\n",
       "Name: count, dtype: int64"
      ]
     },
     "execution_count": 167,
     "metadata": {},
     "output_type": "execute_result"
    }
   ],
   "source": [
    "df_bank['Exited'].value_counts(dropna=False)"
   ]
  },
  {
   "cell_type": "code",
   "execution_count": 168,
   "id": "ce7dd425-339c-4ba2-bb11-d53e8ec68453",
   "metadata": {},
   "outputs": [],
   "source": [
    "df_bank['Exited']=df_bank['Exited'].astype('int8')"
   ]
  },
  {
   "cell_type": "markdown",
   "id": "36f6c6d6-6442-4141-960c-9d644a6064ca",
   "metadata": {},
   "source": [
    "## Final arrangements"
   ]
  },
  {
   "cell_type": "code",
   "execution_count": 170,
   "id": "087608ff-d9c0-49bf-988b-23fd3700ffa0",
   "metadata": {},
   "outputs": [
    {
     "data": {
      "text/plain": [
       "(10000, 13)"
      ]
     },
     "execution_count": 170,
     "metadata": {},
     "output_type": "execute_result"
    }
   ],
   "source": [
    "df_bank.shape"
   ]
  },
  {
   "cell_type": "code",
   "execution_count": 171,
   "id": "9b9c7887-61c2-44f9-94b8-a1872460d8f5",
   "metadata": {},
   "outputs": [
    {
     "data": {
      "text/plain": [
       "CustomerId         0\n",
       "Surname            0\n",
       "CreditScore        0\n",
       "Geography          0\n",
       "Gender             0\n",
       "Age                0\n",
       "Tenure             0\n",
       "Balance            0\n",
       "NumOfProducts      0\n",
       "HasCrCard          0\n",
       "IsActiveMember     0\n",
       "EstimatedSalary    0\n",
       "Exited             0\n",
       "dtype: int64"
      ]
     },
     "execution_count": 171,
     "metadata": {},
     "output_type": "execute_result"
    }
   ],
   "source": [
    "df_bank.isna().sum()"
   ]
  },
  {
   "cell_type": "code",
   "execution_count": 172,
   "id": "0499b9ab-eb02-41d3-93a9-51836ae9064a",
   "metadata": {},
   "outputs": [
    {
     "name": "stdout",
     "output_type": "stream",
     "text": [
      "<class 'pandas.core.frame.DataFrame'>\n",
      "RangeIndex: 10000 entries, 0 to 9999\n",
      "Data columns (total 13 columns):\n",
      " #   Column           Non-Null Count  Dtype   \n",
      "---  ------           --------------  -----   \n",
      " 0   CustomerId       10000 non-null  int64   \n",
      " 1   Surname          10000 non-null  object  \n",
      " 2   CreditScore      10000 non-null  float64 \n",
      " 3   Geography        10000 non-null  object  \n",
      " 4   Gender           10000 non-null  object  \n",
      " 5   Age              10000 non-null  float64 \n",
      " 6   Tenure           10000 non-null  float64 \n",
      " 7   Balance          10000 non-null  float64 \n",
      " 8   NumOfProducts    10000 non-null  int8    \n",
      " 9   HasCrCard        10000 non-null  int8    \n",
      " 10  IsActiveMember   10000 non-null  category\n",
      " 11  EstimatedSalary  10000 non-null  float64 \n",
      " 12  Exited           10000 non-null  int8    \n",
      "dtypes: category(1), float64(5), int64(1), int8(3), object(3)\n",
      "memory usage: 742.4+ KB\n"
     ]
    }
   ],
   "source": [
    "df_bank.info()"
   ]
  },
  {
   "cell_type": "code",
   "execution_count": 173,
   "id": "09236645-a943-4fc3-a0e3-5e43999ac512",
   "metadata": {},
   "outputs": [],
   "source": [
    "df_bank.to_csv('churn_data_processed.csv')"
   ]
  },
  {
   "cell_type": "code",
   "execution_count": null,
   "id": "171d3826-f205-4929-94b2-1fb7ec7e5380",
   "metadata": {},
   "outputs": [],
   "source": []
  },
  {
   "cell_type": "code",
   "execution_count": null,
   "id": "c3175b6a-4f13-4015-b2f1-b5d3b0cc5058",
   "metadata": {},
   "outputs": [],
   "source": []
  }
 ],
 "metadata": {
  "kernelspec": {
   "display_name": "Python 3 (ipykernel)",
   "language": "python",
   "name": "python3"
  },
  "language_info": {
   "codemirror_mode": {
    "name": "ipython",
    "version": 3
   },
   "file_extension": ".py",
   "mimetype": "text/x-python",
   "name": "python",
   "nbconvert_exporter": "python",
   "pygments_lexer": "ipython3",
   "version": "3.12.4"
  }
 },
 "nbformat": 4,
 "nbformat_minor": 5
}
